{
 "cells": [
  {
   "cell_type": "markdown",
   "id": "1689b864",
   "metadata": {},
   "source": [
    "#### Day Objectives:\n",
    "        "
   ]
  },
  {
   "cell_type": "markdown",
   "id": "fd8def3a",
   "metadata": {},
   "source": [
    "#### task:\n",
    "    - hybrid inheritance\n",
    "            - it is a combination of any two types of inheritance"
   ]
  },
  {
   "cell_type": "code",
   "execution_count": 2,
   "id": "540a9f91",
   "metadata": {},
   "outputs": [
    {
     "name": "stdout",
     "output_type": "stream",
     "text": [
      "im from school class\n",
      "None\n",
      "im from student1 class\n",
      "None\n"
     ]
    }
   ],
   "source": [
    "class School:\n",
    "    def fun1():\n",
    "        print(\"im from school class\")\n",
    "class Student1(School):\n",
    "    def fun2():\n",
    "        print(\"im from student1 class\")\n",
    "        \n",
    "class Student2(School):\n",
    "    def fun3():\n",
    "        print(\"im from Student2 class\")\n",
    "class Student3(Student1,School):\n",
    "    def fun4():\n",
    "        print(\"im from student3 class\")\n",
    "        \n",
    "object=Student3\n",
    "print(object.fun1())\n",
    "print(object.fun2())"
   ]
  },
  {
   "cell_type": "markdown",
   "id": "b1439871",
   "metadata": {},
   "source": [
    "#### package and module in python oops:\n",
    "    - package:\n",
    "        - it is a collection of modules\n",
    "    - module:\n",
    "            - it is a .py file\n",
    "            - it contains collection of classes and functions\n",
    "            - for accessing a module python provides one keyword\n",
    "                i.e import \n",
    "                    - syntax:\n",
    "                            - import modulename\n",
    "                            - from module name import class name\n",
    "                            - from module import *"
   ]
  },
  {
   "cell_type": "markdown",
   "id": "c4fbc346",
   "metadata": {},
   "source": [
    "#### module creation"
   ]
  },
  {
   "cell_type": "code",
   "execution_count": null,
   "id": "13d08032",
   "metadata": {},
   "outputs": [],
   "source": [
    "#### how to access module elements"
   ]
  },
  {
   "cell_type": "code",
   "execution_count": 2,
   "id": "563c9872",
   "metadata": {},
   "outputs": [],
   "source": [
    "##### 1st way\n",
    "import module"
   ]
  },
  {
   "cell_type": "code",
   "execution_count": 3,
   "id": "3d5693ef",
   "metadata": {
    "collapsed": true
   },
   "outputs": [
    {
     "name": "stdout",
     "output_type": "stream",
     "text": [
      "9\n",
      "12\n"
     ]
    }
   ],
   "source": [
    "obj=module.Calsi\n",
    "print(obj.add(4,5))\n",
    "print(obj.mul(3,4))"
   ]
  },
  {
   "cell_type": "code",
   "execution_count": 5,
   "id": "9df492ff",
   "metadata": {
    "collapsed": true
   },
   "outputs": [
    {
     "name": "stdout",
     "output_type": "stream",
     "text": [
      "81\n",
      "True\n"
     ]
    }
   ],
   "source": [
    "ob=module.Math\n",
    "print(ob.power(3,4))\n",
    "print(ob.isEven(4))"
   ]
  },
  {
   "cell_type": "code",
   "execution_count": 7,
   "id": "f10af5a5",
   "metadata": {
    "collapsed": true
   },
   "outputs": [
    {
     "name": "stdout",
     "output_type": "stream",
     "text": [
      "False\n"
     ]
    }
   ],
   "source": [
    "o=module.isOdd(8)\n",
    "print(o)"
   ]
  },
  {
   "cell_type": "code",
   "execution_count": 8,
   "id": "2a9ccb08",
   "metadata": {},
   "outputs": [],
   "source": [
    "### 2nd way\n",
    "from module import Math"
   ]
  },
  {
   "cell_type": "code",
   "execution_count": 10,
   "id": "f4606681",
   "metadata": {
    "collapsed": true
   },
   "outputs": [
    {
     "name": "stdout",
     "output_type": "stream",
     "text": [
      "5764801\n",
      "False\n"
     ]
    }
   ],
   "source": [
    "m=Math\n",
    "print(m.power(7,8))\n",
    "print(m.isEven(3))"
   ]
  },
  {
   "cell_type": "code",
   "execution_count": 11,
   "id": "ebc78bbf",
   "metadata": {},
   "outputs": [],
   "source": [
    "from module import Calsi"
   ]
  },
  {
   "cell_type": "code",
   "execution_count": 13,
   "id": "0f612412",
   "metadata": {
    "collapsed": true
   },
   "outputs": [
    {
     "name": "stdout",
     "output_type": "stream",
     "text": [
      "17\n",
      "56\n"
     ]
    }
   ],
   "source": [
    "c=Calsi\n",
    "print(c.add(8,9))\n",
    "print(c.mul(7,8))"
   ]
  },
  {
   "cell_type": "code",
   "execution_count": 14,
   "id": "e6fce355",
   "metadata": {},
   "outputs": [
    {
     "name": "stdout",
     "output_type": "stream",
     "text": [
      "True\n"
     ]
    }
   ],
   "source": [
    "from module import isOdd\n",
    "o=isOdd(5)\n",
    "print(o)"
   ]
  },
  {
   "cell_type": "markdown",
   "id": "d3074ac1",
   "metadata": {},
   "source": [
    "#### 3rd way:"
   ]
  },
  {
   "cell_type": "markdown",
   "id": "b3809efa",
   "metadata": {},
   "source": [
    "#### from module name import *"
   ]
  },
  {
   "cell_type": "code",
   "execution_count": 15,
   "id": "42cc50fb",
   "metadata": {},
   "outputs": [],
   "source": [
    "from module import *"
   ]
  },
  {
   "cell_type": "code",
   "execution_count": 16,
   "id": "e11357ed",
   "metadata": {},
   "outputs": [],
   "source": [
    "obj=Math"
   ]
  },
  {
   "cell_type": "code",
   "execution_count": 18,
   "id": "c2c06f65",
   "metadata": {},
   "outputs": [
    {
     "name": "stdout",
     "output_type": "stream",
     "text": [
      "134217728\n",
      "False\n"
     ]
    }
   ],
   "source": [
    "print(obj.power(8,9))\n",
    "print(obj.isEven(9))"
   ]
  },
  {
   "cell_type": "code",
   "execution_count": 22,
   "id": "b69d9d61",
   "metadata": {},
   "outputs": [
    {
     "name": "stdout",
     "output_type": "stream",
     "text": [
      "15\n",
      "72\n"
     ]
    }
   ],
   "source": [
    "c=Calsi\n",
    "print(c.add(7,8))\n",
    "print(c.mul(8,9))"
   ]
  },
  {
   "cell_type": "code",
   "execution_count": 23,
   "id": "20870f3f",
   "metadata": {},
   "outputs": [
    {
     "name": "stdout",
     "output_type": "stream",
     "text": [
      "True\n"
     ]
    }
   ],
   "source": [
    "o=isOdd(9)\n",
    "print(o)"
   ]
  },
  {
   "cell_type": "markdown",
   "id": "91db858a",
   "metadata": {},
   "source": [
    "##### s/w requirements fo django\n",
    "        - python s/w--->(3.6.7-3.8)\n",
    "                - python.org\n",
    "        - package(django)--->cmd\n",
    "                - pip install django\n",
    "        - editor(sublime txt,vs code)\n",
    "        "
   ]
  },
  {
   "cell_type": "code",
   "execution_count": null,
   "id": "d362ef6a",
   "metadata": {},
   "outputs": [],
   "source": []
  }
 ],
 "metadata": {
  "kernelspec": {
   "display_name": "Python 3 (ipykernel)",
   "language": "python",
   "name": "python3"
  },
  "language_info": {
   "codemirror_mode": {
    "name": "ipython",
    "version": 3
   },
   "file_extension": ".py",
   "mimetype": "text/x-python",
   "name": "python",
   "nbconvert_exporter": "python",
   "pygments_lexer": "ipython3",
   "version": "3.9.13"
  }
 },
 "nbformat": 4,
 "nbformat_minor": 5
}
