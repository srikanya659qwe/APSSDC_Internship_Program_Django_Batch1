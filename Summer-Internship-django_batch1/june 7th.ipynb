{
 "cells": [
  {
   "cell_type": "markdown",
   "id": "2af5e982",
   "metadata": {},
   "source": [
    "###### Day Objectives:\n",
    "        - regular expression in python"
   ]
  },
  {
   "cell_type": "markdown",
   "id": "cbef95ad",
   "metadata": {},
   "source": [
    "### special symbols with special meaning in regular expression:\n",
    "    - ^ ---> starts with\n",
    "    - .----> single character\n",
    "    -$-----> ends with\n",
    "    - \\d----> single digit\n",
    "    - {min,max}---> length\n",
    "    - [asd]---> either or or(either a or either s or either d)"
   ]
  },
  {
   "cell_type": "code",
   "execution_count": 3,
   "id": "f240c4e4",
   "metadata": {},
   "outputs": [],
   "source": [
    "import re"
   ]
  },
  {
   "cell_type": "code",
   "execution_count": 8,
   "id": "275539f9",
   "metadata": {},
   "outputs": [
    {
     "name": "stdout",
     "output_type": "stream",
     "text": [
      "srikanya\n",
      "<re.Match object; span=(0, 1), match='s'>\n"
     ]
    }
   ],
   "source": [
    "name=\"srikanya\"\n",
    "print(name)\n",
    "print(re.search('[s]',name))"
   ]
  },
  {
   "cell_type": "code",
   "execution_count": 9,
   "id": "70dbf64b",
   "metadata": {},
   "outputs": [
    {
     "name": "stdout",
     "output_type": "stream",
     "text": [
      "<re.Match object; span=(0, 1), match='h'>\n"
     ]
    }
   ],
   "source": [
    "print(re.search('[ach]','hai'))"
   ]
  },
  {
   "cell_type": "code",
   "execution_count": 13,
   "id": "d85f0df5",
   "metadata": {},
   "outputs": [
    {
     "name": "stdout",
     "output_type": "stream",
     "text": [
      "<re.Match object; span=(0, 1), match='a'>\n"
     ]
    }
   ],
   "source": [
    "print(re.search('[a-c]','apple'))"
   ]
  },
  {
   "cell_type": "markdown",
   "id": "2049c348",
   "metadata": {},
   "source": [
    "####  [^start range- end range]---> neither or nor \n",
    "#### [start range-end range]"
   ]
  },
  {
   "cell_type": "code",
   "execution_count": 14,
   "id": "c92fa7b1",
   "metadata": {},
   "outputs": [
    {
     "name": "stdout",
     "output_type": "stream",
     "text": [
      "<re.Match object; span=(0, 1), match='s'>\n"
     ]
    }
   ],
   "source": [
    "print(re.search('[^acd]','srikanya'))"
   ]
  },
  {
   "cell_type": "code",
   "execution_count": 15,
   "id": "bfcecd98",
   "metadata": {},
   "outputs": [
    {
     "name": "stdout",
     "output_type": "stream",
     "text": [
      "<re.Match object; span=(6, 7), match='s'>\n"
     ]
    }
   ],
   "source": [
    "print(re.search('[^acd]','acdacdsri'))"
   ]
  },
  {
   "cell_type": "markdown",
   "id": "15e44964",
   "metadata": {},
   "source": [
    "### \\D----> other than\\d\n",
    "            - means any single character other than digit"
   ]
  },
  {
   "cell_type": "code",
   "execution_count": 16,
   "id": "cb7f076e",
   "metadata": {},
   "outputs": [
    {
     "data": {
      "text/plain": [
       "<re.Match object; span=(3, 4), match=' '>"
      ]
     },
     "execution_count": 16,
     "metadata": {},
     "output_type": "execute_result"
    }
   ],
   "source": [
    "re.search('\\D','123 ram')"
   ]
  },
  {
   "cell_type": "code",
   "execution_count": 19,
   "id": "cf0ec520",
   "metadata": {},
   "outputs": [
    {
     "data": {
      "text/plain": [
       "[' ', 'r', 'a', 'm']"
      ]
     },
     "execution_count": 19,
     "metadata": {},
     "output_type": "execute_result"
    }
   ],
   "source": [
    "re.findall('\\D','123 ram')"
   ]
  },
  {
   "cell_type": "markdown",
   "id": "20c549ae",
   "metadata": {},
   "source": [
    "###### \\s--->any spacing single character"
   ]
  },
  {
   "cell_type": "code",
   "execution_count": 21,
   "id": "f30ee3d3",
   "metadata": {},
   "outputs": [
    {
     "name": "stdout",
     "output_type": "stream",
     "text": [
      "<re.Match object; span=(0, 1), match=' '>\n",
      "<re.Match object; span=(3, 4), match=' '>\n"
     ]
    }
   ],
   "source": [
    "print(re.search('\\s',' srikanya'))\n",
    "print(re.search('\\s','sri kanya'))"
   ]
  },
  {
   "cell_type": "markdown",
   "id": "0745a194",
   "metadata": {},
   "source": [
    "#### \\S---> othan than\\s"
   ]
  },
  {
   "cell_type": "code",
   "execution_count": 26,
   "id": "57a3ebc2",
   "metadata": {},
   "outputs": [
    {
     "name": "stdout",
     "output_type": "stream",
     "text": [
      "<re.Match object; span=(0, 1), match='S'>\n",
      "<re.Match object; span=(1, 2), match='s'>\n"
     ]
    }
   ],
   "source": [
    "print(re.search('\\S','SRIKANYA'))\n",
    "print(re.search('\\S',' siri'))"
   ]
  },
  {
   "cell_type": "markdown",
   "id": "8c628a40",
   "metadata": {},
   "source": [
    "### \\w-->single identifier character"
   ]
  },
  {
   "cell_type": "code",
   "execution_count": 27,
   "id": "c18c5a91",
   "metadata": {},
   "outputs": [
    {
     "name": "stdout",
     "output_type": "stream",
     "text": [
      "<re.Match object; span=(1, 2), match='_'>\n"
     ]
    }
   ],
   "source": [
    "print(re.search('\\w',' _siri'))"
   ]
  },
  {
   "cell_type": "code",
   "execution_count": 28,
   "id": "a8914b33",
   "metadata": {},
   "outputs": [
    {
     "name": "stdout",
     "output_type": "stream",
     "text": [
      "<re.Match object; span=(0, 1), match='s'>\n"
     ]
    }
   ],
   "source": [
    "print(re.search('\\w','srikanya'))"
   ]
  },
  {
   "cell_type": "markdown",
   "id": "25543d63",
   "metadata": {},
   "source": [
    "### \\W---> Other than \\w"
   ]
  },
  {
   "cell_type": "code",
   "execution_count": 29,
   "id": "a54cb8eb",
   "metadata": {},
   "outputs": [
    {
     "name": "stdout",
     "output_type": "stream",
     "text": [
      "None\n"
     ]
    }
   ],
   "source": [
    "print(re.search('\\W','sri_kanya'))"
   ]
  },
  {
   "cell_type": "code",
   "execution_count": 30,
   "id": "59a22f44",
   "metadata": {},
   "outputs": [
    {
     "name": "stdout",
     "output_type": "stream",
     "text": [
      "<re.Match object; span=(4, 5), match=' '>\n"
     ]
    }
   ],
   "source": [
    "print(re.search('\\W','sri_ kanya'))"
   ]
  },
  {
   "cell_type": "markdown",
   "id": "48834035",
   "metadata": {},
   "source": [
    "### *--> zero or more occurances:"
   ]
  },
  {
   "cell_type": "code",
   "execution_count": 32,
   "id": "c5ab29d6",
   "metadata": {},
   "outputs": [
    {
     "name": "stdout",
     "output_type": "stream",
     "text": [
      "<re.Match object; span=(0, 1), match='p'>\n"
     ]
    }
   ],
   "source": [
    "print(re.search('p*','python programming'))"
   ]
  },
  {
   "cell_type": "code",
   "execution_count": 33,
   "id": "2d842772",
   "metadata": {},
   "outputs": [
    {
     "name": "stdout",
     "output_type": "stream",
     "text": [
      "<re.Match object; span=(0, 2), match='11'>\n"
     ]
    }
   ],
   "source": [
    "print(re.search('1*','112222233344111'))"
   ]
  },
  {
   "cell_type": "markdown",
   "id": "8322ff6e",
   "metadata": {},
   "source": [
    "#### find the count of  total consonants in given data"
   ]
  },
  {
   "cell_type": "code",
   "execution_count": 38,
   "id": "8c6a2d37",
   "metadata": {},
   "outputs": [
    {
     "name": "stdout",
     "output_type": "stream",
     "text": [
      "['E', 'v', 'r', 'y', ' ', '1', ' ', 'h', 's', ' ', ' ', 's', 't', 'r', 'y']\n",
      "15\n"
     ]
    }
   ],
   "source": [
    "novel=\"Every 1 has a story\"\n",
    "result=re.findall('[^aeiou]',novel)\n",
    "print(result)\n",
    "print(len(result))"
   ]
  },
  {
   "cell_type": "markdown",
   "id": "a0565757",
   "metadata": {},
   "source": [
    "#### mobile number pattern"
   ]
  },
  {
   "cell_type": "code",
   "execution_count": 42,
   "id": "a84dcb72",
   "metadata": {},
   "outputs": [
    {
     "name": "stdout",
     "output_type": "stream",
     "text": [
      "9848022338\n"
     ]
    }
   ],
   "source": [
    "numbers=['9848022338','5875432110','94923432']\n",
    "for i in numbers:\n",
    "    pattern='^[6-9]\\d{9}$'\n",
    "    if re.search(pattern,i):\n",
    "        print(i)"
   ]
  },
  {
   "cell_type": "markdown",
   "id": "87463ac7",
   "metadata": {},
   "source": [
    "#### starts with[6-9],digits,length-9\n",
    "#### starts with 0,[6-9],digits,length-9\n",
    "#### starts with +91,[6-9],digits,length-9"
   ]
  },
  {
   "cell_type": "code",
   "execution_count": 53,
   "id": "16229577",
   "metadata": {},
   "outputs": [
    {
     "name": "stdout",
     "output_type": "stream",
     "text": [
      "valid phone numbers\n"
     ]
    }
   ],
   "source": [
    "666666"
   ]
  },
  {
   "cell_type": "markdown",
   "id": "0445880f",
   "metadata": {},
   "source": [
    "#### task:\n",
    "    - gmail validation"
   ]
  },
  {
   "cell_type": "code",
   "execution_count": null,
   "id": "a4ffc0f5",
   "metadata": {},
   "outputs": [],
   "source": []
  }
 ],
 "metadata": {
  "kernelspec": {
   "display_name": "Python 3 (ipykernel)",
   "language": "python",
   "name": "python3"
  },
  "language_info": {
   "codemirror_mode": {
    "name": "ipython",
    "version": 3
   },
   "file_extension": ".py",
   "mimetype": "text/x-python",
   "name": "python",
   "nbconvert_exporter": "python",
   "pygments_lexer": "ipython3",
   "version": "3.9.13"
  }
 },
 "nbformat": 4,
 "nbformat_minor": 5
}
