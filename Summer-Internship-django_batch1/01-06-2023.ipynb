{
 "cells": [
  {
   "cell_type": "markdown",
   "id": "5e57087a",
   "metadata": {},
   "source": [
    "#### Functions in python\n",
    "        - function is a group of related statements that performs a specific task\n",
    "                       or\n",
    "        - function is a block of code which is only runs when it is called\n",
    "        \n",
    "#### Advantages:\n",
    "        - code reusability\n",
    "                - it divides large program into simpler ones\n",
    "#### Types of Functions:\n",
    "        - builtin functions\n",
    "                ex:print(),len(),sum(),min(),max()...\n",
    "        - usedefined functions\n",
    "                - these functions are created by the user\n",
    "                \n",
    "                \n",
    "#### types of user defined functions:\n",
    "            - with argument and with return value\n",
    "            - with arguments and without return value\n",
    "            - without arguments and with return value\n",
    "            - without argument and without return value\n",
    "            \n",
    "#### Function Syntax:\n",
    "        - by using \"def\" keyword we can define function in python\n",
    "                declaration:\n",
    "                        def function name(parameters):-->function definition\n",
    "                                    ### logic/block of code\n",
    "                        \n",
    "                        function name(arguments)--->function calling\n",
    "        "
   ]
  },
  {
   "cell_type": "code",
   "execution_count": 2,
   "id": "e4c26672",
   "metadata": {
    "collapsed": true
   },
   "outputs": [
    {
     "data": {
      "text/plain": [
       "14"
      ]
     },
     "execution_count": 2,
     "metadata": {},
     "output_type": "execute_result"
    }
   ],
   "source": [
    "### with arguments with return value\n",
    "# a=6\n",
    "# b=7\n",
    "def addition(a,b):\n",
    "    return a+b\n",
    "addition(6,8)\n",
    "    "
   ]
  },
  {
   "cell_type": "code",
   "execution_count": 3,
   "id": "7c5b14a4",
   "metadata": {
    "collapsed": true
   },
   "outputs": [
    {
     "name": "stdout",
     "output_type": "stream",
     "text": [
      "Enter your first value:12\n",
      "Enter your second value:13\n",
      "156\n"
     ]
    }
   ],
   "source": [
    "#### with arguments and without return value\n",
    "x=int(input(\"Enter your first value:\"))\n",
    "y=int(input(\"Enter your second value:\"))\n",
    "def mul(x,y):\n",
    "    print(x*y)\n",
    "mul(x,y)"
   ]
  },
  {
   "cell_type": "code",
   "execution_count": 4,
   "id": "13aa6f62",
   "metadata": {
    "collapsed": true
   },
   "outputs": [
    {
     "name": "stdout",
     "output_type": "stream",
     "text": [
      "56\n",
      "67\n"
     ]
    },
    {
     "data": {
      "text/plain": [
       "123"
      ]
     },
     "execution_count": 4,
     "metadata": {},
     "output_type": "execute_result"
    }
   ],
   "source": [
    "#### without argument and with return value:\n",
    "a1=int(input())\n",
    "b1=int(input())\n",
    "def add2():\n",
    "    return a1+b1\n",
    "    \n",
    "add2()"
   ]
  },
  {
   "cell_type": "code",
   "execution_count": 5,
   "id": "433b1536",
   "metadata": {
    "collapsed": true
   },
   "outputs": [
    {
     "name": "stdout",
     "output_type": "stream",
     "text": [
      "10\n",
      "20\n",
      "30\n"
     ]
    }
   ],
   "source": [
    "#### without arguments without return value\n",
    "\n",
    "a1=int(input())\n",
    "b1=int(input())\n",
    "def add2():\n",
    "    print(a1+b1)\n",
    "add2()"
   ]
  },
  {
   "cell_type": "markdown",
   "id": "afeddecb",
   "metadata": {},
   "source": [
    "### Problem solving:"
   ]
  },
  {
   "cell_type": "code",
   "execution_count": 10,
   "id": "00213432",
   "metadata": {},
   "outputs": [
    {
     "name": "stdout",
     "output_type": "stream",
     "text": [
      "Enter your string heresiri\n"
     ]
    },
    {
     "data": {
      "text/plain": [
       "'iris'"
      ]
     },
     "execution_count": 10,
     "metadata": {},
     "output_type": "execute_result"
    }
   ],
   "source": [
    "## Function to print reverse of a string\n",
    "s=input(\"Enter your string here\")\n",
    "def Reverstr(s):\n",
    "    return s[::-1]\n",
    "    \n",
    "Reverstr(s)"
   ]
  },
  {
   "cell_type": "code",
   "execution_count": 13,
   "id": "8c16f469",
   "metadata": {},
   "outputs": [
    {
     "data": {
      "text/plain": [
       "True"
      ]
     },
     "execution_count": 13,
     "metadata": {},
     "output_type": "execute_result"
    }
   ],
   "source": [
    "#### Function to check if a string is palindrome or not?\n",
    "def Palindrome(s):\n",
    "    if s == s[::-1]:\n",
    "        return True\n",
    "    return False\n",
    "Palindrome(\"malayalam\")"
   ]
  },
  {
   "cell_type": "code",
   "execution_count": 20,
   "id": "a2431066",
   "metadata": {},
   "outputs": [
    {
     "name": "stdout",
     "output_type": "stream",
     "text": [
      "Leap year\n"
     ]
    }
   ],
   "source": [
    "#### Function to check if a given year is leap year or not\n",
    "def LeapYear(year):\n",
    "    if year % 400 == 0 or (year % 100 != 0 and year % 4 == 0):\n",
    "        print(\"Leap year\")\n",
    "    else:\n",
    "        print(\"not a leap year\")\n",
    "LeapYear(2020)"
   ]
  },
  {
   "cell_type": "code",
   "execution_count": 22,
   "id": "ca07121e",
   "metadata": {},
   "outputs": [
    {
     "data": {
      "text/plain": [
       "90"
      ]
     },
     "execution_count": 22,
     "metadata": {},
     "output_type": "execute_result"
    }
   ],
   "source": [
    "#### function to identify the greatest of three numbers \n",
    "def Greatest(n1,n2,n3):\n",
    "    if n1>n2 and n1>n3:\n",
    "        return n1\n",
    "    elif n2>n3:\n",
    "        return n2\n",
    "    return n3\n",
    "Greatest(10,67,90)"
   ]
  },
  {
   "cell_type": "code",
   "execution_count": 25,
   "id": "d03ffa29",
   "metadata": {},
   "outputs": [
    {
     "name": "stdout",
     "output_type": "stream",
     "text": [
      "1 2 3 4 5 6 7 8 9 10 11 12 13 14 15 16 17 18 19 20 21 22 23 24 25 26 27 28 29 30 1 2 3 4 5 6 7 8 9 10 11 12 13 14 15 16 17 18 19 20 21 22 23 24 25 26 27 28 29 30 31 32 33 34 35 36 37 38 39 40 41 42 43 44 45 46 47 48 49 50 51 52 53 54 55 56 57 58 59 60 61 62 63 64 65 66 67 68 69 70 71 72 73 74 75 76 77 78 79 80 81 82 83 84 85 86 87 88 89 90 91 92 93 94 95 96 97 98 99 100 "
     ]
    }
   ],
   "source": [
    "#### Function to print n natural numbers\n",
    "def NaturalNo(n):\n",
    "    for i in range(1,n+1):\n",
    "        print(i,end=\" \")\n",
    "NaturalNo(30)\n",
    "NaturalNo(100)"
   ]
  },
  {
   "cell_type": "code",
   "execution_count": 26,
   "id": "ea81e099",
   "metadata": {},
   "outputs": [
    {
     "name": "stdout",
     "output_type": "stream",
     "text": [
      "500 502 504 506 508 510 512 514 516 518 520 522 524 "
     ]
    }
   ],
   "source": [
    "#### Funtion to print alternative elements in given range:\n",
    "def Alternative(start,end):\n",
    "    for i in range(start,end+1,2):\n",
    "        print(i,end=\" \")\n",
    "    \n",
    "Alternative(500,525)"
   ]
  },
  {
   "cell_type": "code",
   "execution_count": 28,
   "id": "310e8b5e",
   "metadata": {},
   "outputs": [
    {
     "name": "stdout",
     "output_type": "stream",
     "text": [
      "30 29 28 27 26 25 24 23 22 21 20 "
     ]
    }
   ],
   "source": [
    "#### Function to print reverse of given range of elements\n",
    "def ReverseRange(start,end):\n",
    "    for i in range(end,start-1,-1):\n",
    "        print(i,end=\" \")\n",
    "ReverseRange(20,30)"
   ]
  },
  {
   "cell_type": "code",
   "execution_count": 33,
   "id": "0f2a9552",
   "metadata": {
    "collapsed": true
   },
   "outputs": [
    {
     "name": "stdout",
     "output_type": "stream",
     "text": [
      "10\n",
      "21\n",
      "33\n",
      "46\n",
      "60\n",
      "75\n",
      "91\n",
      "108\n",
      "126\n",
      "145\n",
      "165\n"
     ]
    }
   ],
   "source": [
    "#### Function to calculate the sum of numbers in given range\n",
    "def SumRange(start,end):\n",
    "    total=0\n",
    "    for i in range(start,end+1):\n",
    "        total=total+i #t=0+1=1,t=1+2=3,t=3+3=6,t=6+4=10,t=10+5=15\n",
    "        print(total)\n",
    "SumRange(10,20)"
   ]
  },
  {
   "cell_type": "code",
   "execution_count": 36,
   "id": "b05050a2",
   "metadata": {},
   "outputs": [
    {
     "name": "stdout",
     "output_type": "stream",
     "text": [
      "5.5\n"
     ]
    }
   ],
   "source": [
    "#### Function to calculate the average of a given range \n",
    "def Average(start,end):\n",
    "    total=0\n",
    "    count=0\n",
    "    for i in range(start,end+1):\n",
    "        total=total+i #t=0+1=1,t=1+2=3,t=3+3=6,t=6+4=10,t=10+5=15\n",
    "        count=count+1\n",
    "    print(total/count)\n",
    "Average(1,10)"
   ]
  },
  {
   "cell_type": "code",
   "execution_count": 47,
   "id": "677f6e7c",
   "metadata": {},
   "outputs": [
    {
     "name": "stdout",
     "output_type": "stream",
     "text": [
      "1 2 3 "
     ]
    }
   ],
   "source": [
    "##### function to print factors of given number\n",
    "def Factors(n):\n",
    "    for i in range(1,n):\n",
    "        if n%i==0:\n",
    "            print(i,end=\" \")\n",
    "Factors(6)"
   ]
  },
  {
   "cell_type": "code",
   "execution_count": 41,
   "id": "c3cf2561",
   "metadata": {},
   "outputs": [
    {
     "name": "stdout",
     "output_type": "stream",
     "text": [
      "60\n"
     ]
    }
   ],
   "source": [
    "#### factors sum:\n",
    "def Factors(n):\n",
    "    total=0\n",
    "    for i in range(1,n+1):\n",
    "        if n%i==0:\n",
    "#             print(i,end=\" \")\n",
    "            total=total+i\n",
    "    print(total)\n",
    "Factors(24)"
   ]
  },
  {
   "cell_type": "code",
   "execution_count": 45,
   "id": "446a2582",
   "metadata": {},
   "outputs": [
    {
     "name": "stdout",
     "output_type": "stream",
     "text": [
      "2000 2004 2008 2012 2016 2020 2024 2028 "
     ]
    }
   ],
   "source": [
    "### function to print all leap years in given range\n",
    "def LeapYear(year):\n",
    "    if year % 400 == 0 or (year % 100 != 0 and year % 4 == 0):\n",
    "        return True\n",
    "    return False\n",
    "\n",
    "def ListOfYears(start,end):\n",
    "    for i in range(start,end+1):\n",
    "        if LeapYear(i):\n",
    "            print(i,end=\" \")\n",
    "ListOfYears(2000,2030)"
   ]
  },
  {
   "cell_type": "code",
   "execution_count": null,
   "id": "1dcc31e5",
   "metadata": {},
   "outputs": [],
   "source": [
    "### given no is prime or not\n",
    "### given no is perfect no or not"
   ]
  },
  {
   "cell_type": "code",
   "execution_count": null,
   "id": "33f40085",
   "metadata": {},
   "outputs": [],
   "source": [
    "ex:6--->1,2,3-->1+2+3=\n",
    "28:--->1,2,4,7,14--->28"
   ]
  },
  {
   "cell_type": "code",
   "execution_count": null,
   "id": "698b5cb6",
   "metadata": {},
   "outputs": [],
   "source": []
  }
 ],
 "metadata": {
  "kernelspec": {
   "display_name": "Python 3 (ipykernel)",
   "language": "python",
   "name": "python3"
  },
  "language_info": {
   "codemirror_mode": {
    "name": "ipython",
    "version": 3
   },
   "file_extension": ".py",
   "mimetype": "text/x-python",
   "name": "python",
   "nbconvert_exporter": "python",
   "pygments_lexer": "ipython3",
   "version": "3.9.13"
  }
 },
 "nbformat": 4,
 "nbformat_minor": 5
}
