{
 "cells": [
  {
   "cell_type": "markdown",
   "id": "3b1c9f07",
   "metadata": {},
   "source": [
    "###### Day Objectives:\n",
    "        - problem solving on files\n",
    "        - packages and module concept in python"
   ]
  },
  {
   "cell_type": "code",
   "execution_count": null,
   "id": "9874c5af",
   "metadata": {},
   "outputs": [],
   "source": [
    "### words count in file handling\n",
    "### characters count in files"
   ]
  },
  {
   "cell_type": "code",
   "execution_count": 1,
   "id": "b12beec1",
   "metadata": {},
   "outputs": [
    {
     "name": "stdout",
     "output_type": "stream",
     "text": [
      "APSSDC,DAJNGO WORKSHOP\n",
      "good afternoon guys\n",
      "good afternoon guys\n",
      "\n"
     ]
    }
   ],
   "source": [
    "f=open('file.txt','r')\n",
    "fh=f.read()\n",
    "print(fh)\n",
    "f.close()"
   ]
  },
  {
   "cell_type": "code",
   "execution_count": 6,
   "id": "16420394",
   "metadata": {},
   "outputs": [
    {
     "name": "stdout",
     "output_type": "stream",
     "text": [
      "Enter your file name herefile.txt\n"
     ]
    },
    {
     "data": {
      "text/plain": [
       "8"
      ]
     },
     "execution_count": 6,
     "metadata": {},
     "output_type": "execute_result"
    }
   ],
   "source": [
    "#### words count:\n",
    "def no_words(filename):\n",
    "    count=0\n",
    "    with open(filename) as f:\n",
    "        data=f.readlines()\n",
    "        for i in data:\n",
    "            words=i.split()\n",
    "#             print(words)\n",
    "            count=count+len(words)\n",
    "    return count\n",
    "filename=input(\"Enter your file name here\")   \n",
    "no_words(filename)"
   ]
  },
  {
   "cell_type": "code",
   "execution_count": 8,
   "id": "951b5c18",
   "metadata": {},
   "outputs": [
    {
     "name": "stdout",
     "output_type": "stream",
     "text": [
      "Enter your filenamefile.txt\n",
      "63\n"
     ]
    }
   ],
   "source": [
    "#### char count\n",
    "def Char_Count(filename):\n",
    "    c=0\n",
    "    with open(filename) as h:\n",
    "        data=h.read()\n",
    "        for i in data:\n",
    "            c=c+1\n",
    "        print(c)\n",
    "    \n",
    "filename=input(\"Enter your filename\")    \n",
    "Char_Count(filename)"
   ]
  },
  {
   "cell_type": "markdown",
   "id": "e6fbda9b",
   "metadata": {},
   "source": [
    "#### Package and module in python \n",
    "#### package:\n",
    "        - it is a collection modules\n",
    "#### Module:\n",
    "        - it is a .py file\n",
    "        - it is a collection of function,classes,variables..\n",
    "        - by using \"import\" keyword we can access module in python\n",
    "        - syntax:\n",
    "                import modulename\n",
    "#### types of modules in python:\n",
    "        - builtin modules\n",
    "                - math,statistics,sys,os,datetime....\n",
    "        - userdefined module\n",
    "                - module which is created by a user"
   ]
  },
  {
   "cell_type": "code",
   "execution_count": 9,
   "id": "c1219155",
   "metadata": {},
   "outputs": [],
   "source": [
    "### buitlin moules\n",
    "import math"
   ]
  },
  {
   "cell_type": "code",
   "execution_count": 20,
   "id": "637a6304",
   "metadata": {
    "collapsed": true
   },
   "outputs": [
    {
     "name": "stdout",
     "output_type": "stream",
     "text": [
      "362880\n",
      "4\n",
      "3.141592653589793\n",
      "134217728.0\n",
      "9\n",
      "8\n",
      "20.085536923187668\n"
     ]
    }
   ],
   "source": [
    "print(math.factorial(9))\n",
    "print(math.gcd(4,28))\n",
    "print(math.pi)\n",
    "print(math.pow(8,9))\n",
    "print(math.ceil(8.5))\n",
    "print(math.floor(8.9))\n",
    "print(math.exp(3))"
   ]
  },
  {
   "cell_type": "code",
   "execution_count": 26,
   "id": "0418241d",
   "metadata": {
    "collapsed": true
   },
   "outputs": [
    {
     "name": "stdout",
     "output_type": "stream",
     "text": [
      "0.7457052121767203\n",
      "-0.6662760212798241\n",
      "-1.1192136417341325\n",
      "-1.1192136417341325\n",
      "-0.9983608687452424\n"
     ]
    }
   ],
   "source": [
    "x=2.3\n",
    "print(math.sin(x))\n",
    "print(math.cos(x))\n",
    "print(math.tan(x))\n",
    "print(math.sin(x)/math.cos(x))\n",
    "print(math.cos(x/math.sin(x)))"
   ]
  },
  {
   "cell_type": "code",
   "execution_count": 31,
   "id": "8215e83f",
   "metadata": {
    "collapsed": true
   },
   "outputs": [
    {
     "name": "stdout",
     "output_type": "stream",
     "text": [
      "1.3862943611198906\n",
      "1.0\n",
      "2.0\n",
      "1.0\n",
      "0.6020599913279624\n"
     ]
    }
   ],
   "source": [
    "print(math.log(4))\n",
    "print(math.log2(2))\n",
    "print(math.log2(4))\n",
    "print(math.log10(10))\n",
    "print(math.log10(4))"
   ]
  },
  {
   "cell_type": "code",
   "execution_count": 33,
   "id": "6213de0d",
   "metadata": {},
   "outputs": [],
   "source": [
    "import statistics"
   ]
  },
  {
   "cell_type": "code",
   "execution_count": 42,
   "id": "b117b812",
   "metadata": {},
   "outputs": [
    {
     "name": "stdout",
     "output_type": "stream",
     "text": [
      "[23, 12, 34, 57, 89, 90, 23, 80]\n",
      "51\n",
      "23\n",
      "45.5\n",
      "32.115861679683626\n",
      "1031.4285714285713\n"
     ]
    }
   ],
   "source": [
    "li=[23,12,34,57,89,90,23,80]\n",
    "print(li)\n",
    "print(statistics.mean(li))\n",
    "print(statistics.mode(li))\n",
    "print(statistics.median(li))\n",
    "print(statistics.stdev(li))\n",
    "print(statistics.variance(li))"
   ]
  },
  {
   "cell_type": "code",
   "execution_count": 43,
   "id": "0630e610",
   "metadata": {},
   "outputs": [],
   "source": [
    "import sys"
   ]
  },
  {
   "cell_type": "code",
   "execution_count": 44,
   "id": "50e71406",
   "metadata": {},
   "outputs": [
    {
     "name": "stdout",
     "output_type": "stream",
     "text": [
      "['C:\\\\Users\\\\win\\\\Desktop\\\\Summer-Internship-django', 'C:\\\\ProgramData\\\\Anaconda3\\\\python39.zip', 'C:\\\\ProgramData\\\\Anaconda3\\\\DLLs', 'C:\\\\ProgramData\\\\Anaconda3\\\\lib', 'C:\\\\ProgramData\\\\Anaconda3', '', 'C:\\\\Users\\\\win\\\\AppData\\\\Roaming\\\\Python\\\\Python39\\\\site-packages', 'C:\\\\ProgramData\\\\Anaconda3\\\\lib\\\\site-packages', 'C:\\\\ProgramData\\\\Anaconda3\\\\lib\\\\site-packages\\\\win32', 'C:\\\\ProgramData\\\\Anaconda3\\\\lib\\\\site-packages\\\\win32\\\\lib', 'C:\\\\ProgramData\\\\Anaconda3\\\\lib\\\\site-packages\\\\Pythonwin', 'C:\\\\ProgramData\\\\Anaconda3\\\\lib\\\\site-packages\\\\IPython\\\\extensions', 'C:\\\\Users\\\\win\\\\.ipython']\n"
     ]
    }
   ],
   "source": [
    "print(sys.path)"
   ]
  },
  {
   "cell_type": "code",
   "execution_count": 45,
   "id": "948fb476",
   "metadata": {},
   "outputs": [],
   "source": [
    "import datetime"
   ]
  },
  {
   "cell_type": "code",
   "execution_count": 47,
   "id": "81ea6590",
   "metadata": {},
   "outputs": [
    {
     "name": "stdout",
     "output_type": "stream",
     "text": [
      "2023-06-05\n"
     ]
    }
   ],
   "source": [
    "print(datetime.date.today())"
   ]
  },
  {
   "cell_type": "code",
   "execution_count": 51,
   "id": "e71b11ef",
   "metadata": {},
   "outputs": [
    {
     "name": "stdout",
     "output_type": "stream",
     "text": [
      "2023\n",
      "6\n",
      "5\n"
     ]
    }
   ],
   "source": [
    "x=datetime.date.today()\n",
    "print(x.year)\n",
    "print(x.month)\n",
    "print(x.day)"
   ]
  },
  {
   "cell_type": "markdown",
   "id": "bf18c102",
   "metadata": {},
   "source": [
    "#### userdefined module in python"
   ]
  },
  {
   "cell_type": "code",
   "execution_count": 52,
   "id": "12515c3c",
   "metadata": {},
   "outputs": [],
   "source": [
    "import sample"
   ]
  },
  {
   "cell_type": "code",
   "execution_count": 54,
   "id": "fa7bc476",
   "metadata": {},
   "outputs": [
    {
     "data": {
      "text/plain": [
       "False"
      ]
     },
     "execution_count": 54,
     "metadata": {},
     "output_type": "execute_result"
    }
   ],
   "source": [
    "sample.is_even(5)"
   ]
  },
  {
   "cell_type": "code",
   "execution_count": null,
   "id": "7d3064e6",
   "metadata": {},
   "outputs": [],
   "source": []
  }
 ],
 "metadata": {
  "kernelspec": {
   "display_name": "Python 3 (ipykernel)",
   "language": "python",
   "name": "python3"
  },
  "language_info": {
   "codemirror_mode": {
    "name": "ipython",
    "version": 3
   },
   "file_extension": ".py",
   "mimetype": "text/x-python",
   "name": "python",
   "nbconvert_exporter": "python",
   "pygments_lexer": "ipython3",
   "version": "3.9.13"
  }
 },
 "nbformat": 4,
 "nbformat_minor": 5
}
