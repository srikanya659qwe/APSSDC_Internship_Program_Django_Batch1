{
 "cells": [
  {
   "cell_type": "markdown",
   "id": "726b4e02",
   "metadata": {},
   "source": [
    "###### Day objectives:\n",
    "        - regular expression in python\n",
    "            - for checking available data is valid or not\n",
    "            - for regular expression python provies one module\n",
    "                    i.e re\n",
    "                        - import re\n",
    "        - regular expression methods:\n",
    "                - search()\n",
    "                        - here we can verifying the data up to end of the string\n",
    "                             \n",
    "                                    \n",
    "                - match()\n",
    "                        - verifying the data character to character\n",
    "                - findall()\n",
    "                         "
   ]
  },
  {
   "cell_type": "markdown",
   "id": "7089ddd5",
   "metadata": {},
   "source": [
    "### syntax:\n",
    "    - re.search(str_pattern,str data)"
   ]
  },
  {
   "cell_type": "code",
   "execution_count": 1,
   "id": "a04de50c",
   "metadata": {},
   "outputs": [],
   "source": [
    "import re"
   ]
  },
  {
   "cell_type": "code",
   "execution_count": 2,
   "id": "95d112f7",
   "metadata": {},
   "outputs": [
    {
     "name": "stdout",
     "output_type": "stream",
     "text": [
      "<re.Match object; span=(0, 1), match='p'>\n"
     ]
    }
   ],
   "source": [
    "name=\"python program\"\n",
    "print(re.search('p',name))"
   ]
  },
  {
   "cell_type": "code",
   "execution_count": 3,
   "id": "6d829bf5",
   "metadata": {},
   "outputs": [
    {
     "name": "stdout",
     "output_type": "stream",
     "text": [
      "<re.Match object; span=(10, 11), match='g'>\n"
     ]
    }
   ],
   "source": [
    "print(re.search('g',name))"
   ]
  },
  {
   "cell_type": "code",
   "execution_count": 4,
   "id": "586bce81",
   "metadata": {},
   "outputs": [
    {
     "name": "stdout",
     "output_type": "stream",
     "text": [
      "None\n"
     ]
    }
   ],
   "source": [
    "print(re.search('v',name))"
   ]
  },
  {
   "cell_type": "markdown",
   "id": "38545c77",
   "metadata": {},
   "source": [
    "#### print the names which contains \"u\" in thier names by using re"
   ]
  },
  {
   "cell_type": "code",
   "execution_count": 7,
   "id": "64790632",
   "metadata": {},
   "outputs": [
    {
     "name": "stdout",
     "output_type": "stream",
     "text": [
      "hanuma\n",
      "raju\n"
     ]
    }
   ],
   "source": [
    "names=[\"siri\",\"sairam\",\"lakshmi\",\"hanuma\",\"raju\"]\n",
    "for i in names:\n",
    "    if re.search('u',i):\n",
    "        print(i)\n"
   ]
  },
  {
   "cell_type": "markdown",
   "id": "f9495647",
   "metadata": {},
   "source": [
    "#### match:\n",
    "    - re.match(str_pattern,str_data)"
   ]
  },
  {
   "cell_type": "code",
   "execution_count": 9,
   "id": "273f456c",
   "metadata": {},
   "outputs": [
    {
     "name": "stdout",
     "output_type": "stream",
     "text": [
      "python program\n",
      "<re.Match object; span=(0, 1), match='p'>\n"
     ]
    }
   ],
   "source": [
    "print(name)\n",
    "print(re.match('p',name))"
   ]
  },
  {
   "cell_type": "code",
   "execution_count": 10,
   "id": "3201ac0a",
   "metadata": {},
   "outputs": [
    {
     "name": "stdout",
     "output_type": "stream",
     "text": [
      "None\n"
     ]
    }
   ],
   "source": [
    "print(re.match('pn',name))"
   ]
  },
  {
   "cell_type": "code",
   "execution_count": 11,
   "id": "18be7838",
   "metadata": {},
   "outputs": [
    {
     "name": "stdout",
     "output_type": "stream",
     "text": [
      "None\n"
     ]
    }
   ],
   "source": [
    "print(re.match('pr',name))"
   ]
  },
  {
   "cell_type": "code",
   "execution_count": 12,
   "id": "30a7037b",
   "metadata": {},
   "outputs": [
    {
     "name": "stdout",
     "output_type": "stream",
     "text": [
      "<re.Match object; span=(7, 9), match='pr'>\n"
     ]
    }
   ],
   "source": [
    "print(re.search('pr',name))"
   ]
  },
  {
   "cell_type": "code",
   "execution_count": 13,
   "id": "c0e2ac63",
   "metadata": {},
   "outputs": [
    {
     "name": "stdout",
     "output_type": "stream",
     "text": [
      "<re.Match object; span=(0, 2), match='py'>\n"
     ]
    }
   ],
   "source": [
    "print(re.match('py',name))"
   ]
  },
  {
   "cell_type": "markdown",
   "id": "30cf2568",
   "metadata": {},
   "source": [
    "#### findall(str_pattern,str_data)"
   ]
  },
  {
   "cell_type": "code",
   "execution_count": 17,
   "id": "17a52591",
   "metadata": {},
   "outputs": [
    {
     "name": "stdout",
     "output_type": "stream",
     "text": [
      "python programming123\n",
      "['m', 'm']\n",
      "['p', 'p']\n",
      "['1', '2', '3']\n"
     ]
    }
   ],
   "source": [
    "n=\"python programming123\"\n",
    "print(n)\n",
    "print(re.findall('m',n))\n",
    "print(re.findall('p',n))\n",
    "print(re.findall('\\d',n))"
   ]
  },
  {
   "cell_type": "markdown",
   "id": "c6c1cd46",
   "metadata": {},
   "source": [
    "#### special symbols in regular expression:"
   ]
  },
  {
   "cell_type": "markdown",
   "id": "013868aa",
   "metadata": {},
   "source": [
    "### dot(.)\n",
    "    - it indicates any single character"
   ]
  },
  {
   "cell_type": "code",
   "execution_count": 18,
   "id": "907490e8",
   "metadata": {},
   "outputs": [
    {
     "name": "stdout",
     "output_type": "stream",
     "text": [
      "<re.Match object; span=(0, 1), match='s'>\n"
     ]
    }
   ],
   "source": [
    "print(re.search('.','srikanya'))"
   ]
  },
  {
   "cell_type": "code",
   "execution_count": 19,
   "id": "b6a7bc92",
   "metadata": {},
   "outputs": [
    {
     "name": "stdout",
     "output_type": "stream",
     "text": [
      "<re.Match object; span=(0, 2), match='sr'>\n"
     ]
    }
   ],
   "source": [
    "print(re.search('..','srikanya'))"
   ]
  },
  {
   "cell_type": "code",
   "execution_count": 20,
   "id": "b071e11a",
   "metadata": {},
   "outputs": [
    {
     "name": "stdout",
     "output_type": "stream",
     "text": [
      "<re.Match object; span=(4, 7), match='any'>\n"
     ]
    }
   ],
   "source": [
    "print(re.search('a..','srikanya'))"
   ]
  },
  {
   "cell_type": "code",
   "execution_count": 22,
   "id": "1c1ff7f2",
   "metadata": {},
   "outputs": [
    {
     "name": "stdout",
     "output_type": "stream",
     "text": [
      "123\n",
      "1234\n",
      "459\n"
     ]
    }
   ],
   "source": [
    "numbers=['12','123','1234','459']\n",
    "for i in numbers:\n",
    "    if re.search('...',i):\n",
    "        print(i)\n",
    "        "
   ]
  },
  {
   "cell_type": "markdown",
   "id": "daba3127",
   "metadata": {},
   "source": [
    "### ^ --->starts with"
   ]
  },
  {
   "cell_type": "code",
   "execution_count": 23,
   "id": "65a893e6",
   "metadata": {},
   "outputs": [
    {
     "name": "stdout",
     "output_type": "stream",
     "text": [
      "<re.Match object; span=(0, 1), match='s'>\n"
     ]
    }
   ],
   "source": [
    "print(re.search('^s','srikanya'))"
   ]
  },
  {
   "cell_type": "code",
   "execution_count": 24,
   "id": "dd89e022",
   "metadata": {},
   "outputs": [
    {
     "name": "stdout",
     "output_type": "stream",
     "text": [
      "<re.Match object; span=(0, 2), match='sr'>\n"
     ]
    }
   ],
   "source": [
    "print(re.search('^sr','srikanya'))"
   ]
  },
  {
   "cell_type": "code",
   "execution_count": 25,
   "id": "9a1947e7",
   "metadata": {},
   "outputs": [
    {
     "name": "stdout",
     "output_type": "stream",
     "text": [
      "None\n"
     ]
    }
   ],
   "source": [
    "print(re.search('^i','sri'))"
   ]
  },
  {
   "cell_type": "markdown",
   "id": "a097e9c8",
   "metadata": {},
   "source": [
    "### $--->endswith"
   ]
  },
  {
   "cell_type": "code",
   "execution_count": 26,
   "id": "17c49ce3",
   "metadata": {},
   "outputs": [
    {
     "name": "stdout",
     "output_type": "stream",
     "text": [
      "<re.Match object; span=(7, 8), match='a'>\n"
     ]
    }
   ],
   "source": [
    "print(re.search('a$','srikanya'))"
   ]
  },
  {
   "cell_type": "code",
   "execution_count": 27,
   "id": "e33a8ec0",
   "metadata": {},
   "outputs": [
    {
     "name": "stdout",
     "output_type": "stream",
     "text": [
      "None\n"
     ]
    }
   ],
   "source": [
    "print(re.search('i$','srikanya'))"
   ]
  },
  {
   "cell_type": "code",
   "execution_count": 30,
   "id": "0f2a73a2",
   "metadata": {},
   "outputs": [
    {
     "name": "stdout",
     "output_type": "stream",
     "text": [
      "123\n",
      "123\n",
      "124\n"
     ]
    }
   ],
   "source": [
    "numbers=['12','123','1234','123','124']\n",
    "for i in numbers:\n",
    "    if re.search('^...$',i):\n",
    "        print(i)"
   ]
  },
  {
   "cell_type": "code",
   "execution_count": 34,
   "id": "f887611d",
   "metadata": {},
   "outputs": [
    {
     "name": "stdout",
     "output_type": "stream",
     "text": [
      "1223\n"
     ]
    }
   ],
   "source": [
    "numbers=['12','123','173','1234','1223']\n",
    "for i in numbers:\n",
    "    if re.search('^1..3$',i):\n",
    "        print(i)"
   ]
  },
  {
   "cell_type": "markdown",
   "id": "4e8bea0d",
   "metadata": {},
   "source": [
    "### \\d ---> any single digit"
   ]
  },
  {
   "cell_type": "code",
   "execution_count": 35,
   "id": "15c0b9b4",
   "metadata": {},
   "outputs": [
    {
     "name": "stdout",
     "output_type": "stream",
     "text": [
      "<re.Match object; span=(8, 9), match='5'>\n"
     ]
    }
   ],
   "source": [
    "print(re.search('\\d','srikanya589'))"
   ]
  },
  {
   "cell_type": "code",
   "execution_count": 36,
   "id": "82ab6886",
   "metadata": {},
   "outputs": [
    {
     "name": "stdout",
     "output_type": "stream",
     "text": [
      "['5', '8', '9']\n"
     ]
    }
   ],
   "source": [
    "print(re.findall('\\d','srikanya589'))"
   ]
  },
  {
   "cell_type": "markdown",
   "id": "b737ba4a",
   "metadata": {},
   "source": [
    "### find the all digits in given data"
   ]
  },
  {
   "cell_type": "code",
   "execution_count": 38,
   "id": "81a836d8",
   "metadata": {},
   "outputs": [
    {
     "name": "stdout",
     "output_type": "stream",
     "text": [
      "['1', '1', '0', '0']\n"
     ]
    }
   ],
   "source": [
    "novel=\"every 1 has a story or 100 stories\"\n",
    "print(re.findall('\\d',novel))"
   ]
  },
  {
   "cell_type": "code",
   "execution_count": 40,
   "id": "59d14162",
   "metadata": {},
   "outputs": [
    {
     "name": "stdout",
     "output_type": "stream",
     "text": [
      "['100', '200']\n"
     ]
    }
   ],
   "source": [
    "novel=\"every 1 has a story or 100 stories or 200 stories\"\n",
    "print(re.findall('\\d\\d\\d',novel))\n"
   ]
  },
  {
   "cell_type": "markdown",
   "id": "b51e6e92",
   "metadata": {},
   "source": [
    "#### {}---> it indicates min length or max length\n",
    "#### {min,max}"
   ]
  },
  {
   "cell_type": "code",
   "execution_count": 45,
   "id": "cf2a1b7a",
   "metadata": {},
   "outputs": [
    {
     "name": "stdout",
     "output_type": "stream",
     "text": [
      "<re.Match object; span=(0, 5), match='saira'>\n"
     ]
    }
   ],
   "source": [
    "print(re.search('.{5}','sairam'))"
   ]
  },
  {
   "cell_type": "code",
   "execution_count": 46,
   "id": "d24a2b62",
   "metadata": {},
   "outputs": [
    {
     "name": "stdout",
     "output_type": "stream",
     "text": [
      "None\n"
     ]
    }
   ],
   "source": [
    "print(re.search('.{4}','pyt'))"
   ]
  },
  {
   "cell_type": "code",
   "execution_count": 47,
   "id": "cb429c20",
   "metadata": {},
   "outputs": [
    {
     "name": "stdout",
     "output_type": "stream",
     "text": [
      "<re.Match object; span=(0, 7), match='srikany'>\n"
     ]
    }
   ],
   "source": [
    "print(re.search('.{4,7}','srikanya'))"
   ]
  },
  {
   "cell_type": "code",
   "execution_count": 50,
   "id": "044131fc",
   "metadata": {},
   "outputs": [
    {
     "name": "stdout",
     "output_type": "stream",
     "text": [
      "['1', '100', '300', '800', '0']\n"
     ]
    }
   ],
   "source": [
    "novel=\"every 1 has a story or 100 stories or 300 stories 8000 \"\n",
    "print(re.findall('\\d{1,3}',novel))"
   ]
  },
  {
   "cell_type": "code",
   "execution_count": null,
   "id": "400d7e91",
   "metadata": {},
   "outputs": [],
   "source": []
  }
 ],
 "metadata": {
  "kernelspec": {
   "display_name": "Python 3 (ipykernel)",
   "language": "python",
   "name": "python3"
  },
  "language_info": {
   "codemirror_mode": {
    "name": "ipython",
    "version": 3
   },
   "file_extension": ".py",
   "mimetype": "text/x-python",
   "name": "python",
   "nbconvert_exporter": "python",
   "pygments_lexer": "ipython3",
   "version": "3.9.13"
  }
 },
 "nbformat": 4,
 "nbformat_minor": 5
}
