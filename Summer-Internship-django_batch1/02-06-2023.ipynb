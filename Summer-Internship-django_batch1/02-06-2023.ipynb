{
 "cells": [
  {
   "cell_type": "markdown",
   "id": "96afd79e",
   "metadata": {},
   "source": [
    "#### comprehension in python\n",
    "#### tasks:"
   ]
  },
  {
   "cell_type": "markdown",
   "id": "82655752",
   "metadata": {},
   "source": [
    "#### function to print a given no is prime or not?"
   ]
  },
  {
   "cell_type": "code",
   "execution_count": 4,
   "id": "be9f6992",
   "metadata": {},
   "outputs": [
    {
     "name": "stdout",
     "output_type": "stream",
     "text": [
      "Enter your value:5\n",
      "Prime no\n"
     ]
    }
   ],
   "source": [
    "n=int(input(\"Enter your value:\"))\n",
    "factor_count=0\n",
    "for i in range(1,n+1):\n",
    "    if n%i==0:\n",
    "        factor_count +=1\n",
    "        \n",
    "if factor_count==2:\n",
    "    print(\"Prime no\")\n",
    "else:\n",
    "    print(\"not a prime no\")\n",
    "        \n"
   ]
  },
  {
   "cell_type": "markdown",
   "id": "48145fec",
   "metadata": {},
   "source": [
    "### to check given no is perfect no or not?  \n",
    "        ex:6-->1,2,3-->1+2+3=6\n",
    "           28--->1,2,4,7,14-->28"
   ]
  },
  {
   "cell_type": "code",
   "execution_count": 10,
   "id": "96fbc314",
   "metadata": {},
   "outputs": [
    {
     "name": "stdout",
     "output_type": "stream",
     "text": [
      "Enter your value:8128\n",
      "Perfect no\n"
     ]
    }
   ],
   "source": [
    "n=int(input(\"Enter your value:\"))\n",
    "total=0\n",
    "for i in range(1,n):\n",
    "    if n%i==0:\n",
    "        total=total+i\n",
    "        \n",
    "if total==n:\n",
    "    print(\"Perfect no\")\n",
    "else:\n",
    "    print(\"not a perfect no\")"
   ]
  },
  {
   "cell_type": "markdown",
   "id": "c9abda2b",
   "metadata": {},
   "source": [
    "### task:\n",
    "        - To print list of prime numbers in given range\n",
    "        - To print list of perfect numbers in given range"
   ]
  },
  {
   "cell_type": "markdown",
   "id": "d79b799e",
   "metadata": {},
   "source": [
    "#### Comprehension in python:\n",
    "    - it is a process of creating new sequence from existed sequence\n",
    "    \n",
    "#### types of comprehensions:\n",
    "        - list comprehension\n",
    "                - syntax:\n",
    "                        [output_variable control statement conditional statement]\n",
    "        - dict comprehension\n",
    "                - syntax:\n",
    "                        {output_variable control statement conditional statement}\n",
    "        - set comprehension\n",
    "                - syntax:\n",
    "                        {output_variable control statement conditional statement}\n",
    "                    \n",
    "#### Advantages:\n",
    "        - less code\n",
    "        - less complexity(space,time)\n",
    "        "
   ]
  },
  {
   "cell_type": "code",
   "execution_count": 12,
   "id": "1d879815",
   "metadata": {},
   "outputs": [
    {
     "name": "stdout",
     "output_type": "stream",
     "text": [
      "23 11 99 "
     ]
    }
   ],
   "source": [
    "### lc\n",
    "s=[23,56,78,11,99]\n",
    "for i in s:\n",
    "    if i%2!=0:\n",
    "        print(i,end=\" \")"
   ]
  },
  {
   "cell_type": "code",
   "execution_count": 13,
   "id": "ded683bc",
   "metadata": {},
   "outputs": [
    {
     "data": {
      "text/plain": [
       "[23, 11, 99]"
      ]
     },
     "execution_count": 13,
     "metadata": {},
     "output_type": "execute_result"
    }
   ],
   "source": [
    "### by using lc\n",
    "s=[23,56,78,11,99]\n",
    "output=[i for i in s if i%2!=0]\n",
    "output"
   ]
  },
  {
   "cell_type": "code",
   "execution_count": 15,
   "id": "46768796",
   "metadata": {},
   "outputs": [
    {
     "name": "stdout",
     "output_type": "stream",
     "text": [
      "[0, 1, 2, 3, 4, 5, 6, 7, 8, 9, 10, 11, 12, 13, 14, 15, 16, 17, 18, 19, 20, 21, 22, 23, 24, 25, 26, 27, 28, 29]\n"
     ]
    }
   ],
   "source": [
    "## To print natural no's by using lc\n",
    "k=[i for i in range(30)]\n",
    "print(k)"
   ]
  },
  {
   "cell_type": "code",
   "execution_count": 17,
   "id": "8ca54641",
   "metadata": {},
   "outputs": [
    {
     "name": "stdout",
     "output_type": "stream",
     "text": [
      "[0, 1, 4, 9, 16, 25, 36, 49, 64, 81]\n"
     ]
    }
   ],
   "source": [
    "k1=[i**2 for i in range(10)]\n",
    "print(k1)"
   ]
  },
  {
   "cell_type": "code",
   "execution_count": 19,
   "id": "d8d7f704",
   "metadata": {},
   "outputs": [
    {
     "name": "stdout",
     "output_type": "stream",
     "text": [
      "['good', 'afternoon', 'guys', 'welcome', 'to', 'python', 'programming']\n"
     ]
    }
   ],
   "source": [
    "f=['good afternoon guys welcome to python programming']\n",
    "f1=[]\n",
    "for i in f:\n",
    "    for j in i.split():\n",
    "        f1.append(j)\n",
    "print(f1)\n",
    "        "
   ]
  },
  {
   "cell_type": "code",
   "execution_count": 20,
   "id": "0af54c67",
   "metadata": {},
   "outputs": [
    {
     "name": "stdout",
     "output_type": "stream",
     "text": [
      "['good', 'afternoon', 'guys', 'welcome', 'to', 'python', 'programming']\n"
     ]
    }
   ],
   "source": [
    "### by using lc:\n",
    "f=['good afternoon guys welcome to python programming']\n",
    "q=[j for i in f for j in i.split()]\n",
    "print(q)"
   ]
  },
  {
   "cell_type": "markdown",
   "id": "81d37d00",
   "metadata": {},
   "source": [
    "#### Dict comprehension\n",
    "        - {output control statement conditional statement}"
   ]
  },
  {
   "cell_type": "markdown",
   "id": "9cf1a2f2",
   "metadata": {},
   "source": [
    "### o/p{1:1,2:4,3:9,4:16....10:100}"
   ]
  },
  {
   "cell_type": "code",
   "execution_count": 24,
   "id": "c7cfbc8f",
   "metadata": {},
   "outputs": [
    {
     "name": "stdout",
     "output_type": "stream",
     "text": [
      "{1: 1, 2: 4, 3: 9, 4: 16, 5: 25, 6: 36, 7: 49, 8: 64, 9: 81, 10: 100, 11: 121, 12: 144, 13: 169, 14: 196, 15: 225, 16: 256, 17: 289, 18: 324, 19: 361, 20: 400}\n"
     ]
    }
   ],
   "source": [
    "d={i:i**2 for i in range(1,21)}\n",
    "print(d)"
   ]
  },
  {
   "cell_type": "code",
   "execution_count": null,
   "id": "f50333b1",
   "metadata": {},
   "outputs": [],
   "source": [
    "#### i/p:[9,8,6,7,5]\n",
    "#### o/p{9:9**3,.....5:5**3}"
   ]
  },
  {
   "cell_type": "code",
   "execution_count": 26,
   "id": "191be7de",
   "metadata": {},
   "outputs": [
    {
     "name": "stdout",
     "output_type": "stream",
     "text": [
      "{9: 729, 8: 512, 7: 343, 6: 216, 5: 125}\n"
     ]
    }
   ],
   "source": [
    "li=[9,8,7,6,5]\n",
    "result={i:i**3 for i in li}\n",
    "print(result)"
   ]
  },
  {
   "cell_type": "markdown",
   "id": "50237673",
   "metadata": {},
   "source": [
    "#### set comprehension:"
   ]
  },
  {
   "cell_type": "code",
   "execution_count": null,
   "id": "456d6624",
   "metadata": {},
   "outputs": [],
   "source": [
    "#### i/p:[5,6,7,3,4,9]\n",
    "#### o/p\n"
   ]
  },
  {
   "cell_type": "code",
   "execution_count": null,
   "id": "7fbb0ec8",
   "metadata": {},
   "outputs": [],
   "source": [
    "s="
   ]
  },
  {
   "cell_type": "code",
   "execution_count": null,
   "id": "8762440f",
   "metadata": {},
   "outputs": [],
   "source": []
  },
  {
   "cell_type": "code",
   "execution_count": null,
   "id": "ae3190b1",
   "metadata": {},
   "outputs": [],
   "source": []
  }
 ],
 "metadata": {
  "kernelspec": {
   "display_name": "Python 3 (ipykernel)",
   "language": "python",
   "name": "python3"
  },
  "language_info": {
   "codemirror_mode": {
    "name": "ipython",
    "version": 3
   },
   "file_extension": ".py",
   "mimetype": "text/x-python",
   "name": "python",
   "nbconvert_exporter": "python",
   "pygments_lexer": "ipython3",
   "version": "3.9.13"
  }
 },
 "nbformat": 4,
 "nbformat_minor": 5
}
