{
 "cells": [
  {
   "cell_type": "markdown",
   "id": "25b09de6",
   "metadata": {},
   "source": [
    "###### Day Objectives:\n",
    "        - "
   ]
  },
  {
   "cell_type": "markdown",
   "id": "261bd943",
   "metadata": {},
   "source": [
    "#### task:\n",
    "        - gmail validation"
   ]
  },
  {
   "cell_type": "code",
   "execution_count": 6,
   "id": "c6eb66de",
   "metadata": {},
   "outputs": [],
   "source": [
    "import re"
   ]
  },
  {
   "cell_type": "code",
   "execution_count": 13,
   "id": "4837c4fc",
   "metadata": {},
   "outputs": [],
   "source": [
    "g_p=['srikanya659@gmail.com','ru@gmail.com']\n",
    "p='^[a-z]{4-12}\\d*[@][a-z]{1,5}.[a-z]{3,5}$'\n",
    "for i in g_p:\n",
    "    if re.search(p,i):\n",
    "        print(i)\n",
    "\n",
    "\n",
    "\n"
   ]
  },
  {
   "cell_type": "markdown",
   "id": "0b99d0ba",
   "metadata": {},
   "source": [
    "#### oops in python:\n",
    "    - object oriented programming system\n",
    "            - class\n",
    "            - object\n",
    "            - constructor\n",
    "            - inheritance\n",
    "            - package and module"
   ]
  },
  {
   "cell_type": "code",
   "execution_count": null,
   "id": "00f1e991",
   "metadata": {},
   "outputs": [],
   "source": [
    "#### examples on class"
   ]
  },
  {
   "cell_type": "code",
   "execution_count": 19,
   "id": "9b6f090c",
   "metadata": {},
   "outputs": [],
   "source": [
    "class Hi:\n",
    "    a=10\n",
    "    b=20\n",
    "    def display():\n",
    "        print(\"Im from Dispaly method\")\n",
    "    def sample():\n",
    "        print(\"Im from sample method\")"
   ]
  },
  {
   "cell_type": "markdown",
   "id": "6a2fe233",
   "metadata": {},
   "source": [
    "#### how to access class elements\n",
    "        - dot operator(.)\n",
    "                - syntax:\n",
    "                        classname.variable name\n",
    "                        classname.method name\n",
    "        - object"
   ]
  },
  {
   "cell_type": "code",
   "execution_count": 22,
   "id": "2dd3f69b",
   "metadata": {
    "collapsed": true
   },
   "outputs": [
    {
     "name": "stdout",
     "output_type": "stream",
     "text": [
      "10\n",
      "Im from Dispaly method\n",
      "None\n",
      "Im from sample method\n",
      "None\n",
      "20\n"
     ]
    }
   ],
   "source": [
    "print(Hi.a)\n",
    "print(Hi.display())\n",
    "print(Hi.sample())\n",
    "print(Hi.b)"
   ]
  },
  {
   "cell_type": "code",
   "execution_count": 23,
   "id": "699ab4cf",
   "metadata": {},
   "outputs": [],
   "source": [
    "#### example2\n",
    "class Math:\n",
    "    def addition(n1,n2):\n",
    "        return n1+n2\n",
    "    def mul(n1,n2):\n",
    "        return n1*n2"
   ]
  },
  {
   "cell_type": "code",
   "execution_count": 26,
   "id": "b012fd2f",
   "metadata": {},
   "outputs": [
    {
     "name": "stdout",
     "output_type": "stream",
     "text": [
      "17\n",
      "224\n"
     ]
    }
   ],
   "source": [
    "print(Math.addition(8,9))\n",
    "print(Math.mul(56,4))"
   ]
  },
  {
   "cell_type": "markdown",
   "id": "87f3354e",
   "metadata": {},
   "source": [
    "###### object:\n",
    "        - it is an instance of a class\n",
    "        - it is a real world entity\n",
    "        - it is a blue print of a class\n",
    "                - syntax:\n",
    "                       obj_name=class_name"
   ]
  },
  {
   "cell_type": "code",
   "execution_count": 28,
   "id": "9e5034f9",
   "metadata": {},
   "outputs": [],
   "source": [
    "class Math2:\n",
    "    def power(bval,exval):\n",
    "        return bval**exval\n",
    "    def division(a,b):\n",
    "        return a//b"
   ]
  },
  {
   "cell_type": "code",
   "execution_count": 37,
   "id": "57841e0f",
   "metadata": {},
   "outputs": [
    {
     "name": "stdout",
     "output_type": "stream",
     "text": [
      "1024\n",
      "2\n"
     ]
    }
   ],
   "source": [
    "obj=Math2\n",
    "print(obj.power(4,5))\n",
    "print(obj.division(9,4))"
   ]
  },
  {
   "cell_type": "markdown",
   "id": "c231971c",
   "metadata": {},
   "source": [
    "#### Constructor:\n",
    "        - The main advantage of constructor is without using\n",
    "    an object we will call a method\n",
    "        - for that we have a small procedure:\n",
    "            - syntax:\n",
    "                    class classname:\n",
    "                        def __init__(self):\n",
    "                                    ##- self-->default parameter\n",
    "                                    ## __init__--> constructor"
   ]
  },
  {
   "cell_type": "markdown",
   "id": "6d8f5f1d",
   "metadata": {},
   "source": [
    "#### types of constructors:\n",
    "        - default constructor\n",
    "                def __init__(self):\n",
    "                        ###\n",
    "        - parametrized constructor\n",
    "                def __init__(self,a,b):\n",
    "                            ### here self-->default one\n",
    "                            ### a,b-->extra parameters\n",
    "                def __init __(a,self,b):\n",
    "                            ###  default one--->a\n",
    "                            ### self,b--->extra parametrs"
   ]
  },
  {
   "cell_type": "code",
   "execution_count": 38,
   "id": "ec43bb49",
   "metadata": {},
   "outputs": [],
   "source": [
    "#### default constructor\n",
    "class Cons:\n",
    "    def __init__(self):\n",
    "        print(\"Hi guys welcome to new concept\")\n",
    "        "
   ]
  },
  {
   "cell_type": "code",
   "execution_count": 43,
   "id": "e193277b",
   "metadata": {},
   "outputs": [
    {
     "name": "stdout",
     "output_type": "stream",
     "text": [
      "Hi guys welcome to new concept\n",
      "Hi guys welcome to new concept\n",
      "None\n"
     ]
    }
   ],
   "source": [
    "ob=Cons()\n",
    "print(ob.__init__())"
   ]
  },
  {
   "cell_type": "code",
   "execution_count": null,
   "id": "f15f6522",
   "metadata": {},
   "outputs": [],
   "source": [
    "#### Parametrized Cons:"
   ]
  },
  {
   "cell_type": "code",
   "execution_count": 48,
   "id": "d72af5a3",
   "metadata": {},
   "outputs": [],
   "source": [
    "class Math3:\n",
    "    def __init__(self,v1,v2):\n",
    "        self.num1=v1\n",
    "        self.num2=v2\n",
    "    def show(self):\n",
    "        print(self.num1)\n",
    "        print(self.num2)\n",
    "        \n",
    "    def addition(self):\n",
    "        return self.num1+self.num2\n",
    "    \n",
    "        "
   ]
  },
  {
   "cell_type": "code",
   "execution_count": 46,
   "id": "6127f551",
   "metadata": {
    "collapsed": true
   },
   "outputs": [
    {
     "name": "stdout",
     "output_type": "stream",
     "text": [
      "5\n",
      "4\n",
      "None\n",
      "9\n"
     ]
    }
   ],
   "source": [
    "m=Math3(5,4)\n",
    "print(m.show())\n",
    "print(m.addition())"
   ]
  },
  {
   "cell_type": "markdown",
   "id": "8a46caaa",
   "metadata": {},
   "source": [
    "### task:\n",
    "     - gmail validation by using functions"
   ]
  },
  {
   "cell_type": "code",
   "execution_count": null,
   "id": "12891ce3",
   "metadata": {},
   "outputs": [],
   "source": []
  }
 ],
 "metadata": {
  "kernelspec": {
   "display_name": "Python 3 (ipykernel)",
   "language": "python",
   "name": "python3"
  },
  "language_info": {
   "codemirror_mode": {
    "name": "ipython",
    "version": 3
   },
   "file_extension": ".py",
   "mimetype": "text/x-python",
   "name": "python",
   "nbconvert_exporter": "python",
   "pygments_lexer": "ipython3",
   "version": "3.9.13"
  }
 },
 "nbformat": 4,
 "nbformat_minor": 5
}
