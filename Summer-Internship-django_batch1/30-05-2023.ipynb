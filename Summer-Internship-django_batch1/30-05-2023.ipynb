{
 "cells": [
  {
   "cell_type": "markdown",
   "id": "a64f20f0",
   "metadata": {},
   "source": [
    "#### String:\n",
    "    - it is a Group of Characters or Sequence of characters\n",
    "    - representation of a string is eiter '' or \"\" or ''' '''\n",
    "    - for accessing string characters we are using \"index\"\n",
    "    - index will be starts from 0 onwards.\n",
    "    \n",
    "##### types of indexes:\n",
    "        - positive index(starts with 0)\n",
    "                left to right\n",
    "        - negetive index(starts with -1)\n",
    "                right to left\n",
    "            \n",
    "#### Slicing:\n",
    "        - we can access more then one character from string at a time\n",
    "        - syntax:\n",
    "                - string variable name[start index:end index+1:step value]"
   ]
  },
  {
   "cell_type": "code",
   "execution_count": 2,
   "id": "bd4e7c32",
   "metadata": {},
   "outputs": [
    {
     "name": "stdout",
     "output_type": "stream",
     "text": [
      "Good Afternoon\n"
     ]
    },
    {
     "data": {
      "text/plain": [
       "str"
      ]
     },
     "execution_count": 2,
     "metadata": {},
     "output_type": "execute_result"
    }
   ],
   "source": [
    "#### delcaration of a string:\n",
    "s='Good Afternoon'\n",
    "print(s)\n",
    "type(s)"
   ]
  },
  {
   "cell_type": "code",
   "execution_count": 4,
   "id": "f4c65130",
   "metadata": {},
   "outputs": [
    {
     "name": "stdout",
     "output_type": "stream",
     "text": [
      "Good Afetrnoon\n"
     ]
    }
   ],
   "source": [
    "s1=\"Good Afetrnoon\"\n",
    "print(s1)"
   ]
  },
  {
   "cell_type": "code",
   "execution_count": 5,
   "id": "ece7ba50",
   "metadata": {},
   "outputs": [
    {
     "name": "stdout",
     "output_type": "stream",
     "text": [
      "Good Afternoo\n"
     ]
    }
   ],
   "source": [
    "s2='''Good Afternoo'''\n",
    "print(s2)"
   ]
  },
  {
   "cell_type": "code",
   "execution_count": 20,
   "id": "f471e62c",
   "metadata": {},
   "outputs": [
    {
     "name": "stdout",
     "output_type": "stream",
     "text": [
      "Good Afternoon\n",
      "f\n",
      "n\n",
      "Afternoon\n",
      "Afternoon\n",
      "Go feno\n",
      "Go feno\n",
      "noonretfA dooG\n",
      "nortAdo\n"
     ]
    }
   ],
   "source": [
    "### how to access characters from string:\n",
    "print(s)\n",
    "print(s[6])\n",
    "print(s[10])\n",
    "print(s[5:14])\n",
    "print(s[5:])\n",
    "print(s[0:14:2])\n",
    "print(s[::2])\n",
    "print(s[::-1])\n",
    "print(s[::-2])"
   ]
  },
  {
   "cell_type": "code",
   "execution_count": 21,
   "id": "f79c43b5",
   "metadata": {},
   "outputs": [
    {
     "name": "stdout",
     "output_type": "stream",
     "text": [
      "Enter your string herepython workshop\n",
      "python workshop\n"
     ]
    }
   ],
   "source": [
    "### Dynamic way of reading a string:\n",
    "a=input(\"Enter your string here\")\n",
    "print(a)"
   ]
  },
  {
   "cell_type": "markdown",
   "id": "3dd75aec",
   "metadata": {},
   "source": [
    "#### string Palindrome:\n",
    "    ex:madam--re-->madam"
   ]
  },
  {
   "cell_type": "code",
   "execution_count": 22,
   "id": "fb79c67a",
   "metadata": {},
   "outputs": [
    {
     "name": "stdout",
     "output_type": "stream",
     "text": [
      "Enter your String:amma\n",
      "Given String is palindromic String\n"
     ]
    }
   ],
   "source": [
    "a=input(\"Enter your String:\")\n",
    "if a==a[::-1]:\n",
    "    print(\"Given String is palindromic String\")\n",
    "else:\n",
    "    print(\"Not a Palindome\")"
   ]
  },
  {
   "cell_type": "code",
   "execution_count": 23,
   "id": "f668c4b3",
   "metadata": {},
   "outputs": [
    {
     "name": "stdout",
     "output_type": "stream",
     "text": [
      "Enter your first string:good\n",
      "Enter your second string:afternoon\n",
      "Enter your third string:guys\n",
      "goodafternoonguys\n"
     ]
    }
   ],
   "source": [
    "#### String Concatenation:\n",
    "x1=input(\"Enter your first string:\")\n",
    "x2=input(\"Enter your second string:\")\n",
    "x3=input(\"Enter your third string:\")\n",
    "print(x1+x2+x3)\n"
   ]
  },
  {
   "cell_type": "code",
   "execution_count": 28,
   "id": "2b5ac891",
   "metadata": {},
   "outputs": [
    {
     "name": "stdout",
     "output_type": "stream",
     "text": [
      "afternoon\n",
      "9\n",
      "a\n",
      "t\n"
     ]
    }
   ],
   "source": [
    "print(x2)\n",
    "print(len(x2))\n",
    "print(min(x2))\n",
    "print(max(x2))"
   ]
  },
  {
   "cell_type": "code",
   "execution_count": 31,
   "id": "4caa4edf",
   "metadata": {},
   "outputs": [
    {
     "name": "stdout",
     "output_type": "stream",
     "text": [
      "good\n",
      "goodgoodgood\n",
      "guysguysguysguysguysguysguysguysguysguys\n"
     ]
    }
   ],
   "source": [
    "print(x1)\n",
    "print(x1*3)\n",
    "print(x3*10)"
   ]
  },
  {
   "cell_type": "code",
   "execution_count": 48,
   "id": "65aee50f",
   "metadata": {},
   "outputs": [
    {
     "name": "stdout",
     "output_type": "stream",
     "text": [
      "django workshop\n",
      "django workshopdjango workshopdjango workshopdjango workshop\n"
     ]
    }
   ],
   "source": [
    "b=\"django workshop\"\n",
    "print(b)\n",
    "print(b*4)"
   ]
  },
  {
   "cell_type": "code",
   "execution_count": 42,
   "id": "8b689cfd",
   "metadata": {},
   "outputs": [
    {
     "name": "stdout",
     "output_type": "stream",
     "text": [
      "['__add__', '__class__', '__contains__', '__delattr__', '__dir__', '__doc__', '__eq__', '__format__', '__ge__', '__getattribute__', '__getitem__', '__getnewargs__', '__gt__', '__hash__', '__init__', '__init_subclass__', '__iter__', '__le__', '__len__', '__lt__', '__mod__', '__mul__', '__ne__', '__new__', '__reduce__', '__reduce_ex__', '__repr__', '__rmod__', '__rmul__', '__setattr__', '__sizeof__', '__str__', '__subclasshook__', 'capitalize', 'casefold', 'center', 'count', 'encode', 'endswith', 'expandtabs', 'find', 'format', 'format_map', 'index', 'isalnum', 'isalpha', 'isascii', 'isdecimal', 'isdigit', 'isidentifier', 'islower', 'isnumeric', 'isprintable', 'isspace', 'istitle', 'isupper', 'join', 'ljust', 'lower', 'lstrip', 'maketrans', 'partition', 'removeprefix', 'removesuffix', 'replace', 'rfind', 'rindex', 'rjust', 'rpartition', 'rsplit', 'rstrip', 'split', 'splitlines', 'startswith', 'strip', 'swapcase', 'title', 'translate', 'upper', 'zfill']\n"
     ]
    }
   ],
   "source": [
    "print(dir(str))"
   ]
  },
  {
   "cell_type": "code",
   "execution_count": null,
   "id": "ba73bbb0",
   "metadata": {},
   "outputs": [],
   "source": []
  }
 ],
 "metadata": {
  "kernelspec": {
   "display_name": "Python 3 (ipykernel)",
   "language": "python",
   "name": "python3"
  },
  "language_info": {
   "codemirror_mode": {
    "name": "ipython",
    "version": 3
   },
   "file_extension": ".py",
   "mimetype": "text/x-python",
   "name": "python",
   "nbconvert_exporter": "python",
   "pygments_lexer": "ipython3",
   "version": "3.9.13"
  }
 },
 "nbformat": 4,
 "nbformat_minor": 5
}
