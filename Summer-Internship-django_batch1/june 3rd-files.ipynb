{
 "cells": [
  {
   "cell_type": "markdown",
   "id": "d97bacbf",
   "metadata": {},
   "source": [
    "###### set comprehension"
   ]
  },
  {
   "cell_type": "markdown",
   "id": "bd36fffb",
   "metadata": {},
   "source": [
    "## i/p:[9,5,3,90,54]\n",
    "### o/p:{}-->odd no's squares"
   ]
  },
  {
   "cell_type": "code",
   "execution_count": 2,
   "id": "d8b3acc8",
   "metadata": {},
   "outputs": [
    {
     "name": "stdout",
     "output_type": "stream",
     "text": [
      "{81, 25, 9}\n"
     ]
    }
   ],
   "source": [
    "s=[9,5,3,90,54]\n",
    "f=set()\n",
    "for i in s:\n",
    "    if i%2!=0:\n",
    "        f.add(i**2)\n",
    "        \n",
    "print(f)\n",
    "        "
   ]
  },
  {
   "cell_type": "code",
   "execution_count": 3,
   "id": "22011603",
   "metadata": {},
   "outputs": [
    {
     "name": "stdout",
     "output_type": "stream",
     "text": [
      "{81, 25, 9}\n"
     ]
    }
   ],
   "source": [
    "#### by using sc:\n",
    "output={i**2 for i in s if (i%2!=0)}\n",
    "print(output)"
   ]
  },
  {
   "cell_type": "markdown",
   "id": "4818a263",
   "metadata": {},
   "source": [
    "###  file handling in python:\n",
    "    - file:\n",
    "        - it contains collection of data/information\n",
    "        - it is a named location on desk or memory containing some information\n",
    "                ex: .mp3,.mp4,.py,.png.jpeg,.excel.pdf.....\n",
    "                \n",
    "    - file handling:\n",
    "            - python has several functions to create a file or read a file,or open a file,write a file.....\n",
    "            \n",
    "#### File operations:\n",
    "        - open a file\n",
    "                - open()\n",
    "                        - open(filename,mode)\n",
    "        - doing an operations\n",
    "                - read operation\n",
    "                        - read()\n",
    "                                - filename.read()\n",
    "                - write operation\n",
    "                        - write()\n",
    "                                - filename.write('data')\n",
    "        - close a file\n",
    "                        - close()\n",
    "\n",
    "\n",
    "### file modes:\n",
    "        - read mode->'r'->by default is read mode\n",
    "        - write mode->'w'\n",
    "        - append mode->'a'\n"
   ]
  },
  {
   "cell_type": "code",
   "execution_count": 9,
   "id": "188a3a7e",
   "metadata": {},
   "outputs": [
    {
     "name": "stdout",
     "output_type": "stream",
     "text": [
      "hello guys...welcome to django online session.\n"
     ]
    }
   ],
   "source": [
    "#### read operation\n",
    "f=open('file.txt','r')\n",
    "fh=f.read()\n",
    "print(fh)\n",
    "f.close()"
   ]
  },
  {
   "cell_type": "code",
   "execution_count": 16,
   "id": "f284db99",
   "metadata": {},
   "outputs": [
    {
     "name": "stdout",
     "output_type": "stream",
     "text": [
      "16\n"
     ]
    }
   ],
   "source": [
    "###### write operation(write mode,append mode)\n",
    "f1=open('file2.txt','w')\n",
    "fh=f1.write(\"hello every one\\n\")\n",
    "print(fh)\n",
    "f.close()"
   ]
  },
  {
   "cell_type": "code",
   "execution_count": 17,
   "id": "d5a4e21a",
   "metadata": {
    "scrolled": true
   },
   "outputs": [
    {
     "name": "stdout",
     "output_type": "stream",
     "text": [
      "7\n"
     ]
    }
   ],
   "source": [
    "###### append mode():\n",
    "f2=open('file2.txt','a')\n",
    "output=f2.write(\"Apssdc\\n\")\n",
    "print(output)\n",
    "f2.close()\n"
   ]
  },
  {
   "cell_type": "markdown",
   "id": "528f9d3f",
   "metadata": {},
   "source": [
    "#### withopen():\n",
    "    - syntax:\n",
    "            - withopen(filename,mode) as variable name:\n",
    "                    "
   ]
  },
  {
   "cell_type": "code",
   "execution_count": 18,
   "id": "8cbe6629",
   "metadata": {},
   "outputs": [
    {
     "name": "stdout",
     "output_type": "stream",
     "text": [
      "hello guys...welcome to django online session.\n"
     ]
    }
   ],
   "source": [
    "#### read operation\n",
    "with open('file.txt','r') as g:\n",
    "    result=g.read()\n",
    "    print(result)"
   ]
  },
  {
   "cell_type": "code",
   "execution_count": 26,
   "id": "717b8479",
   "metadata": {},
   "outputs": [
    {
     "name": "stdout",
     "output_type": "stream",
     "text": [
      "23\n"
     ]
    }
   ],
   "source": [
    "### write():\n",
    "with open('file.txt','w') as g:\n",
    "    re=g.write(\"APSSDC,DAJNGO WORKSHOP\\n\")\n",
    "    print(re)"
   ]
  },
  {
   "cell_type": "code",
   "execution_count": 1,
   "id": "6d2a02cd",
   "metadata": {},
   "outputs": [
    {
     "name": "stdout",
     "output_type": "stream",
     "text": [
      "20\n"
     ]
    }
   ],
   "source": [
    "###### append():\n",
    "with open('file.txt','a') as g:\n",
    "    re=g.write(\"good afternoon guys\\n\")\n",
    "    print(re)\n"
   ]
  },
  {
   "cell_type": "markdown",
   "id": "4ef1114c",
   "metadata": {},
   "source": [
    "###### file methods:\n",
    "        - read()\n",
    "                - it returns entire data from file\n",
    "        - read line()\n",
    "                - it returns first line from file\n",
    "        - read lines()\n",
    "                - it returns total lines from file\n",
    "        - split()\n",
    "                - it returns total words from file\n",
    "        - tell()\n",
    "                - it returns cursor position from file\n",
    "        - seek()\n",
    "                - by using this method we can change cursor position from one position to another position"
   ]
  },
  {
   "cell_type": "code",
   "execution_count": 3,
   "id": "f306be4f",
   "metadata": {},
   "outputs": [
    {
     "name": "stdout",
     "output_type": "stream",
     "text": [
      "APSSDC\n"
     ]
    }
   ],
   "source": [
    "### read(length6):\n",
    "with open('file.txt','r') as f3:\n",
    "    h=f3.read(6)\n",
    "    print(h)"
   ]
  },
  {
   "cell_type": "markdown",
   "id": "6335abe6",
   "metadata": {},
   "source": [
    "#### readline()"
   ]
  },
  {
   "cell_type": "code",
   "execution_count": 4,
   "id": "d947d0ee",
   "metadata": {},
   "outputs": [
    {
     "name": "stdout",
     "output_type": "stream",
     "text": [
      "APSSDC,DAJNGO WORKSHOP\n",
      "\n"
     ]
    }
   ],
   "source": [
    "with open('file.txt','r') as f4:\n",
    "    j=f4.readline()\n",
    "    print(j)"
   ]
  },
  {
   "cell_type": "markdown",
   "id": "752cd972",
   "metadata": {},
   "source": [
    "#### readlines():"
   ]
  },
  {
   "cell_type": "code",
   "execution_count": 8,
   "id": "08cb57ba",
   "metadata": {},
   "outputs": [
    {
     "name": "stdout",
     "output_type": "stream",
     "text": [
      "['hello every one\\n', 'Apssdc\\n']\n"
     ]
    }
   ],
   "source": [
    "with open('file2.txt') as f4:\n",
    "    k=f4.readlines()\n",
    "    print(k)"
   ]
  },
  {
   "cell_type": "code",
   "execution_count": 9,
   "id": "01e76bb4",
   "metadata": {},
   "outputs": [
    {
     "name": "stdout",
     "output_type": "stream",
     "text": [
      "['APSSDC,DAJNGO', 'WORKSHOP', 'good', 'afternoon', 'guys', 'good', 'afternoon', 'guys']\n"
     ]
    }
   ],
   "source": [
    "#### split():\n",
    "with open('file.txt','r') as f3:\n",
    "    l=f3.read()\n",
    "    sp=l.split()\n",
    "    print(sp)"
   ]
  },
  {
   "cell_type": "code",
   "execution_count": 12,
   "id": "c4027592",
   "metadata": {},
   "outputs": [
    {
     "name": "stdout",
     "output_type": "stream",
     "text": [
      "7\n",
      "10\n",
      "10\n"
     ]
    }
   ],
   "source": [
    "#### tell and seek():\n",
    "f1=open('file.txt')\n",
    "data=f1.read(7)\n",
    "r=f1.tell()\n",
    "print(r)\n",
    "t=f1.seek(10)\n",
    "print(t)\n",
    "r1=f1.tell()\n",
    "print(r1)\n"
   ]
  },
  {
   "cell_type": "code",
   "execution_count": 16,
   "id": "d6ac508c",
   "metadata": {},
   "outputs": [
    {
     "name": "stdout",
     "output_type": "stream",
     "text": [
      "Enter your file name herefile2.txt\n",
      "enter your file mode herer\n",
      "hello every one\n",
      "Apssdc\n",
      "\n"
     ]
    }
   ],
   "source": [
    "def ReadFile(filename):\n",
    "    with open(filename,mode) as f:\n",
    "        d=f.read()\n",
    "        print(d)\n",
    "    \n",
    "    \n",
    "filename=input(\"Enter your file name here\")\n",
    "mode=input(\"enter your file mode here\")\n",
    "ReadFile(filename)"
   ]
  },
  {
   "cell_type": "code",
   "execution_count": 17,
   "id": "462e0ae4",
   "metadata": {},
   "outputs": [
    {
     "name": "stdout",
     "output_type": "stream",
     "text": [
      "3\n"
     ]
    }
   ],
   "source": [
    "### lines count:\n",
    "with open('file.txt','r') as f:\n",
    "    h=f.readlines()\n",
    "    print(len(h))"
   ]
  },
  {
   "cell_type": "code",
   "execution_count": 18,
   "id": "16c3c92c",
   "metadata": {},
   "outputs": [
    {
     "name": "stdout",
     "output_type": "stream",
     "text": [
      "2\n"
     ]
    }
   ],
   "source": [
    "with open('file2.txt','r') as f:\n",
    "    j=f.readlines()\n",
    "    c=0\n",
    "    for i in j:\n",
    "        c=c+1\n",
    "    print(c)\n",
    "        "
   ]
  },
  {
   "cell_type": "markdown",
   "id": "c5e2de34",
   "metadata": {},
   "source": [
    "### task:\n",
    "    - word count\n",
    "    - character count"
   ]
  }
 ],
 "metadata": {
  "kernelspec": {
   "display_name": "Python 3 (ipykernel)",
   "language": "python",
   "name": "python3"
  },
  "language_info": {
   "codemirror_mode": {
    "name": "ipython",
    "version": 3
   },
   "file_extension": ".py",
   "mimetype": "text/x-python",
   "name": "python",
   "nbconvert_exporter": "python",
   "pygments_lexer": "ipython3",
   "version": "3.9.13"
  }
 },
 "nbformat": 4,
 "nbformat_minor": 5
}
