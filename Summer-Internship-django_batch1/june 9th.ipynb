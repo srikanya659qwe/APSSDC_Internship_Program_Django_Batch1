{
 "cells": [
  {
   "cell_type": "markdown",
   "id": "6cb8d40e",
   "metadata": {},
   "source": [
    "###### Day objectives:\n"
   ]
  },
  {
   "cell_type": "markdown",
   "id": "664c99b3",
   "metadata": {},
   "source": [
    "### task:\n",
    "    - gmail validation:"
   ]
  },
  {
   "cell_type": "code",
   "execution_count": 1,
   "id": "0a24fb54",
   "metadata": {},
   "outputs": [],
   "source": [
    "import re"
   ]
  },
  {
   "cell_type": "code",
   "execution_count": 6,
   "id": "f851f9f0",
   "metadata": {},
   "outputs": [
    {
     "name": "stdout",
     "output_type": "stream",
     "text": [
      "Enter your mail heresiri59@gmail.com\n",
      "valid mail\n"
     ]
    }
   ],
   "source": [
    "def VerifyMail(email):\n",
    "    pattern='^[a-z0-9][a-z0-9._]{4,13}[@][a-z]{3,18}[.][a-z]{2,4}$'\n",
    "    if re.match(pattern,email):\n",
    "        print(\"valid mail\")\n",
    "    else:\n",
    "        print(\"invalid mail\")\n",
    "    \n",
    "email=input(\"Enter your mail here\")   \n",
    "VerifyMail(email)"
   ]
  },
  {
   "cell_type": "markdown",
   "id": "e9ab658c",
   "metadata": {},
   "source": [
    "#### inheritance in oops:"
   ]
  },
  {
   "cell_type": "markdown",
   "id": "37ba2178",
   "metadata": {},
   "source": [
    "###### inheritance:\n",
    "    - we can aquire the properties from parent class to child class.\n",
    "    - General format of inheritance is\n",
    "            - syntax:\n",
    "                    class childclass(parent class):\n"
   ]
  },
  {
   "cell_type": "markdown",
   "id": "7799887b",
   "metadata": {},
   "source": [
    "#### types of inheritance:\n",
    "    - single level inheritance\n",
    "    - multilevel inheritance\n",
    "    - multiple inheritance\n",
    "    - hybrid inheritance\n",
    "    - hirarchical inheritance"
   ]
  },
  {
   "cell_type": "markdown",
   "id": "77baab08",
   "metadata": {},
   "source": [
    "######  single level inheritance:\n",
    "        - here there is only one parent class and only one child class\n",
    "                    - single parent class\n",
    "                    - single child class"
   ]
  },
  {
   "cell_type": "markdown",
   "id": "fc2d7f32",
   "metadata": {},
   "source": [
    "#### example"
   ]
  },
  {
   "cell_type": "code",
   "execution_count": 9,
   "id": "2a707e1c",
   "metadata": {
    "collapsed": true
   },
   "outputs": [
    {
     "name": "stdout",
     "output_type": "stream",
     "text": [
      "10\n",
      "20\n",
      "im from classA\n",
      "None\n"
     ]
    }
   ],
   "source": [
    "class ClassA:\n",
    "    a,b=10,20\n",
    "    def display():\n",
    "        print(\"im from classA\")\n",
    "class ClassB(ClassA):\n",
    "    c,d=45,34\n",
    "    def show():\n",
    "        print(\"im from classB\")\n",
    "        \n",
    "    \n",
    "obj=ClassB\n",
    "print(obj.a)\n",
    "print(obj.b)\n",
    "print(obj.display())"
   ]
  },
  {
   "cell_type": "markdown",
   "id": "8b7c8635",
   "metadata": {},
   "source": [
    "#### multilevel inheritance:\n",
    "        - here we have more than one parent classes and more than one\n",
    "    child classes\n",
    "            ex: class A(p-0,c-3)\n",
    "                class B(p-1,c-2)\n",
    "                class C(p-2,c-1)\n",
    "                class D(p-3,c-0)"
   ]
  },
  {
   "cell_type": "code",
   "execution_count": null,
   "id": "9d240395",
   "metadata": {},
   "outputs": [],
   "source": [
    "#### example:"
   ]
  },
  {
   "cell_type": "code",
   "execution_count": 12,
   "id": "6cac5e4f",
   "metadata": {},
   "outputs": [
    {
     "name": "stdout",
     "output_type": "stream",
     "text": [
      "im from classA\n",
      "None\n"
     ]
    }
   ],
   "source": [
    "class A:\n",
    "    def ClassA():\n",
    "        print(\"im from classA\")\n",
    "class B(A):\n",
    "    def ClassB():\n",
    "        print(\"im from classB\")\n",
    "class C(B):\n",
    "    def ClassC():\n",
    "        print(\"im from classC\")\n",
    "class D(C):\n",
    "    def ClassD():\n",
    "        print(\"im from classD\")\n",
    "        \n",
    "ob=D\n",
    "print(ob.ClassA())"
   ]
  },
  {
   "cell_type": "markdown",
   "id": "8b5b7eab",
   "metadata": {},
   "source": [
    "#### multiple inheritance:\n",
    "        - here we have more than one parent classes and only one child class\n",
    "        \n",
    "                    ex:  class A         class B\n",
    "                    \n",
    "                                   classc"
   ]
  },
  {
   "cell_type": "markdown",
   "id": "91d3d5e8",
   "metadata": {},
   "source": [
    "#### example:\n"
   ]
  },
  {
   "cell_type": "code",
   "execution_count": 16,
   "id": "5b3e1d25",
   "metadata": {},
   "outputs": [
    {
     "name": "stdout",
     "output_type": "stream",
     "text": [
      "im from class A\n",
      "None\n",
      "im from class C\n",
      "None\n",
      "im from class B\n",
      "None\n"
     ]
    }
   ],
   "source": [
    "class A:\n",
    "    def classA():\n",
    "        print(\"im from class A\")\n",
    "        \n",
    "class B:\n",
    "    def classB():\n",
    "        print(\"im from class B\")\n",
    "\n",
    "class C:\n",
    "    def classC():\n",
    "        print(\"im from class C\")\n",
    "        \n",
    "class D(A,B,C):\n",
    "    def classD():\n",
    "        print(\"im from class D\")\n",
    "        \n",
    "        \n",
    "o=D\n",
    "print(o.classA())\n",
    "print(o.classC())\n",
    "print(o.classB())\n",
    "        \n",
    "        "
   ]
  },
  {
   "cell_type": "markdown",
   "id": "185e238e",
   "metadata": {},
   "source": [
    "#### Hirarchical inheritance:\n",
    "    - it is a reverse of multiple inheritance\n",
    "    - here we have more than one child classes but only one parent class."
   ]
  },
  {
   "cell_type": "code",
   "execution_count": 17,
   "id": "a3268345",
   "metadata": {},
   "outputs": [],
   "source": [
    "### example"
   ]
  },
  {
   "cell_type": "code",
   "execution_count": 24,
   "id": "46f12ca2",
   "metadata": {},
   "outputs": [
    {
     "name": "stdout",
     "output_type": "stream",
     "text": [
      "amazon is anonline ecommerce website\n",
      "ebay is anonline store\n",
      "amazon rating is:excellent\n"
     ]
    }
   ],
   "source": [
    "class Brands:# parent class\n",
    "    brand_name1=\"amazon\"\n",
    "    brand_name2=\"ebay\"\n",
    "class Products(Brands):# child class\n",
    "    p1=\"online ecommerce website\"\n",
    "    p2=\"online store\"\n",
    "class Popularity(Brands):# grand child classes\n",
    "    rating1=80\n",
    "    rating2=90\n",
    "class Value(Brands):\n",
    "    feedback1=\"excellent\"\n",
    "    feedback2=\"good\"\n",
    "    \n",
    "    \n",
    "ob1=Products()\n",
    "ob2=Popularity()\n",
    "ob3=Value()\n",
    "print(ob1.brand_name1+\" is an\"+ ob1.p1)\n",
    "print(ob1.brand_name2+\" is an\"+ ob1.p2)\n",
    "print(ob1.brand_name1+\" rating is:\"+ ob3.feedback1)\n",
    "    "
   ]
  },
  {
   "cell_type": "markdown",
   "id": "190b215d",
   "metadata": {},
   "source": [
    "#### hybrid inheritance:\n",
    "    - it is a mixture of any two types of iheritances"
   ]
  },
  {
   "cell_type": "markdown",
   "id": "ae0ee06d",
   "metadata": {},
   "source": [
    "###### "
   ]
  }
 ],
 "metadata": {
  "kernelspec": {
   "display_name": "Python 3 (ipykernel)",
   "language": "python",
   "name": "python3"
  },
  "language_info": {
   "codemirror_mode": {
    "name": "ipython",
    "version": 3
   },
   "file_extension": ".py",
   "mimetype": "text/x-python",
   "name": "python",
   "nbconvert_exporter": "python",
   "pygments_lexer": "ipython3",
   "version": "3.9.13"
  }
 },
 "nbformat": 4,
 "nbformat_minor": 5
}
