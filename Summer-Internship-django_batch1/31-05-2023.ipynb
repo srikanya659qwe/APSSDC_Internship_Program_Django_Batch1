{
 "cells": [
  {
   "cell_type": "markdown",
   "id": "2cad865e",
   "metadata": {},
   "source": [
    "### String Methods:"
   ]
  },
  {
   "cell_type": "code",
   "execution_count": 1,
   "id": "0dc685c1",
   "metadata": {},
   "outputs": [
    {
     "name": "stdout",
     "output_type": "stream",
     "text": [
      "['__add__', '__class__', '__contains__', '__delattr__', '__dir__', '__doc__', '__eq__', '__format__', '__ge__', '__getattribute__', '__getitem__', '__getnewargs__', '__gt__', '__hash__', '__init__', '__init_subclass__', '__iter__', '__le__', '__len__', '__lt__', '__mod__', '__mul__', '__ne__', '__new__', '__reduce__', '__reduce_ex__', '__repr__', '__rmod__', '__rmul__', '__setattr__', '__sizeof__', '__str__', '__subclasshook__', 'capitalize', 'casefold', 'center', 'count', 'encode', 'endswith', 'expandtabs', 'find', 'format', 'format_map', 'index', 'isalnum', 'isalpha', 'isascii', 'isdecimal', 'isdigit', 'isidentifier', 'islower', 'isnumeric', 'isprintable', 'isspace', 'istitle', 'isupper', 'join', 'ljust', 'lower', 'lstrip', 'maketrans', 'partition', 'removeprefix', 'removesuffix', 'replace', 'rfind', 'rindex', 'rjust', 'rpartition', 'rsplit', 'rstrip', 'split', 'splitlines', 'startswith', 'strip', 'swapcase', 'title', 'translate', 'upper', 'zfill']\n"
     ]
    }
   ],
   "source": [
    "print(dir(str))"
   ]
  },
  {
   "cell_type": "code",
   "execution_count": null,
   "id": "a6cfc20c",
   "metadata": {},
   "outputs": [],
   "source": [
    "#### islower(),isupper()-->T,F"
   ]
  },
  {
   "cell_type": "code",
   "execution_count": 4,
   "id": "9cdf835d",
   "metadata": {},
   "outputs": [
    {
     "name": "stdout",
     "output_type": "stream",
     "text": [
      "django workshop\n",
      "<class 'str'>\n"
     ]
    },
    {
     "data": {
      "text/plain": [
       "15"
      ]
     },
     "execution_count": 4,
     "metadata": {},
     "output_type": "execute_result"
    }
   ],
   "source": [
    "s=\"django workshop\"\n",
    "print(s)\n",
    "print(type(s))\n",
    "len(s)"
   ]
  },
  {
   "cell_type": "markdown",
   "id": "a1952784",
   "metadata": {},
   "source": [
    "### islower()\n",
    "    - str.islower()"
   ]
  },
  {
   "cell_type": "code",
   "execution_count": 5,
   "id": "cefcc636",
   "metadata": {},
   "outputs": [
    {
     "name": "stdout",
     "output_type": "stream",
     "text": [
      "True\n"
     ]
    }
   ],
   "source": [
    "print(s.islower())"
   ]
  },
  {
   "cell_type": "markdown",
   "id": "9179e8f1",
   "metadata": {},
   "source": [
    "### isupper()\n",
    "    - str.isupper()"
   ]
  },
  {
   "cell_type": "code",
   "execution_count": 6,
   "id": "c35a5554",
   "metadata": {},
   "outputs": [
    {
     "name": "stdout",
     "output_type": "stream",
     "text": [
      "False\n"
     ]
    }
   ],
   "source": [
    "print(s.isupper())"
   ]
  },
  {
   "cell_type": "markdown",
   "id": "176b65d8",
   "metadata": {},
   "source": [
    "### upper():\n",
    "    - str.upper()"
   ]
  },
  {
   "cell_type": "code",
   "execution_count": 7,
   "id": "479e53d4",
   "metadata": {},
   "outputs": [
    {
     "name": "stdout",
     "output_type": "stream",
     "text": [
      "DJANGO WORKSHOP\n"
     ]
    }
   ],
   "source": [
    "print(s.upper())"
   ]
  },
  {
   "cell_type": "markdown",
   "id": "23691014",
   "metadata": {},
   "source": [
    "#### lower():\n",
    "    - str.lower()"
   ]
  },
  {
   "cell_type": "code",
   "execution_count": 8,
   "id": "e6e60f88",
   "metadata": {},
   "outputs": [
    {
     "name": "stdout",
     "output_type": "stream",
     "text": [
      "django workshop\n"
     ]
    }
   ],
   "source": [
    "print(s.lower())"
   ]
  },
  {
   "cell_type": "markdown",
   "id": "f13028e3",
   "metadata": {},
   "source": [
    "#### count()-->it returns no of occurances\n",
    "    - str.count('character name')"
   ]
  },
  {
   "cell_type": "code",
   "execution_count": 9,
   "id": "3207e288",
   "metadata": {},
   "outputs": [
    {
     "name": "stdout",
     "output_type": "stream",
     "text": [
      "3\n"
     ]
    }
   ],
   "source": [
    "print(s.count('o'))"
   ]
  },
  {
   "cell_type": "code",
   "execution_count": 10,
   "id": "71ed9f38",
   "metadata": {},
   "outputs": [
    {
     "name": "stdout",
     "output_type": "stream",
     "text": [
      "1\n"
     ]
    }
   ],
   "source": [
    "print(s.count('d'))"
   ]
  },
  {
   "cell_type": "markdown",
   "id": "9da9b08a",
   "metadata": {},
   "source": [
    "### index()--> it returns index position of particular character\n",
    "        - str.index('character')"
   ]
  },
  {
   "cell_type": "code",
   "execution_count": 11,
   "id": "eebea7dd",
   "metadata": {},
   "outputs": [
    {
     "name": "stdout",
     "output_type": "stream",
     "text": [
      "1\n"
     ]
    }
   ],
   "source": [
    "print(s.index('j'))"
   ]
  },
  {
   "cell_type": "code",
   "execution_count": 14,
   "id": "3f0ec90b",
   "metadata": {},
   "outputs": [
    {
     "name": "stdout",
     "output_type": "stream",
     "text": [
      "5\n",
      "13\n"
     ]
    }
   ],
   "source": [
    "print(s.index('o'))\n",
    "print(s.rindex('o'))\n"
   ]
  },
  {
   "cell_type": "code",
   "execution_count": 13,
   "id": "70de0059",
   "metadata": {},
   "outputs": [
    {
     "name": "stdout",
     "output_type": "stream",
     "text": [
      "django workshop\n"
     ]
    }
   ],
   "source": [
    "print(s)"
   ]
  },
  {
   "cell_type": "markdown",
   "id": "3b1f0ed7",
   "metadata": {},
   "source": [
    "#### find()-->it returnd index position of given character\n",
    "        - str.find('char')"
   ]
  },
  {
   "cell_type": "code",
   "execution_count": 16,
   "id": "0bfc1cfd",
   "metadata": {},
   "outputs": [
    {
     "name": "stdout",
     "output_type": "stream",
     "text": [
      "9\n",
      "13\n"
     ]
    }
   ],
   "source": [
    "print(s.find('r'))\n",
    "print(s.rfind('o'))"
   ]
  },
  {
   "cell_type": "markdown",
   "id": "b243165d",
   "metadata": {},
   "source": [
    "### starts with():\n",
    "    - str.startswith('char')"
   ]
  },
  {
   "cell_type": "code",
   "execution_count": 18,
   "id": "0e85dc9e",
   "metadata": {},
   "outputs": [
    {
     "name": "stdout",
     "output_type": "stream",
     "text": [
      "True\n",
      "False\n"
     ]
    }
   ],
   "source": [
    "print(s.startswith('d'))\n",
    "print(s.startswith('e'))"
   ]
  },
  {
   "cell_type": "markdown",
   "id": "e0d07440",
   "metadata": {},
   "source": [
    "#### endswith():\n",
    "    - str.endswith('char')"
   ]
  },
  {
   "cell_type": "code",
   "execution_count": 20,
   "id": "055e497e",
   "metadata": {},
   "outputs": [
    {
     "name": "stdout",
     "output_type": "stream",
     "text": [
      "True\n",
      "False\n"
     ]
    }
   ],
   "source": [
    "print(s.endswith('p'))\n",
    "print(s.endswith('P'))"
   ]
  },
  {
   "cell_type": "markdown",
   "id": "797b84d4",
   "metadata": {},
   "source": [
    "#### Split():\n",
    "    - str.split()"
   ]
  },
  {
   "cell_type": "code",
   "execution_count": 24,
   "id": "6a0523d8",
   "metadata": {},
   "outputs": [
    {
     "name": "stdout",
     "output_type": "stream",
     "text": [
      "django workshop\n",
      "['django', 'workshop']\n",
      "['djang', ' w', 'rksh', 'p']\n",
      "['djan', 'o workshop']\n"
     ]
    }
   ],
   "source": [
    "print(s)\n",
    "print(s.split())\n",
    "print(s.split('o'))\n",
    "print(s.split('g'))"
   ]
  },
  {
   "cell_type": "markdown",
   "id": "e2968278",
   "metadata": {},
   "source": [
    "#### join():\n",
    "    - 'char/symbol/no'.join(s)"
   ]
  },
  {
   "cell_type": "code",
   "execution_count": 28,
   "id": "49a8b8e9",
   "metadata": {},
   "outputs": [
    {
     "name": "stdout",
     "output_type": "stream",
     "text": [
      "d@j@a@n@g@o@ @w@o@r@k@s@h@o@p\n",
      "dAjAaAnAgAoA AwAoArAkAsAhAoAp\n",
      "d34j34a34n34g34o34 34w34o34r34k34s34h34o34p\n",
      "dPYTHONjPYTHONaPYTHONnPYTHONgPYTHONoPYTHON PYTHONwPYTHONoPYTHONrPYTHONkPYTHONsPYTHONhPYTHONoPYTHONp\n"
     ]
    }
   ],
   "source": [
    "print('@'.join(s))\n",
    "print('A'.join(s))\n",
    "print('34'.join(s))\n",
    "print('PYTHON'.join(s))"
   ]
  },
  {
   "cell_type": "markdown",
   "id": "7b16443a",
   "metadata": {},
   "source": [
    "### title()\n",
    "    - str.title()\n",
    "### istitle()\n",
    "    - str.istitle()"
   ]
  },
  {
   "cell_type": "code",
   "execution_count": 31,
   "id": "1905ebad",
   "metadata": {},
   "outputs": [
    {
     "name": "stdout",
     "output_type": "stream",
     "text": [
      "django workshop\n",
      "Django Workshop\n",
      "False\n"
     ]
    }
   ],
   "source": [
    "print(s)\n",
    "print(s.title())\n",
    "print(s.istitle())"
   ]
  },
  {
   "cell_type": "code",
   "execution_count": 32,
   "id": "bd690670",
   "metadata": {},
   "outputs": [
    {
     "name": "stdout",
     "output_type": "stream",
     "text": [
      "True\n"
     ]
    }
   ],
   "source": [
    "s1=\"Python Session\"\n",
    "print(s1.istitle())"
   ]
  },
  {
   "cell_type": "markdown",
   "id": "0b50aa61",
   "metadata": {},
   "source": [
    "#### isalpha--->T/F\n",
    "    - str.isalpha()\n",
    "### isdigit\n",
    "    - str.isdigit()\n",
    "#### isalnum\n",
    "    - str.isalnum()"
   ]
  },
  {
   "cell_type": "code",
   "execution_count": 34,
   "id": "59f84986",
   "metadata": {},
   "outputs": [
    {
     "name": "stdout",
     "output_type": "stream",
     "text": [
      "django workshop\n",
      "False\n"
     ]
    }
   ],
   "source": [
    "#### isalpha()\n",
    "print(s)\n",
    "print(s.isalpha())"
   ]
  },
  {
   "cell_type": "code",
   "execution_count": 38,
   "id": "050e9f4e",
   "metadata": {},
   "outputs": [
    {
     "name": "stdout",
     "output_type": "stream",
     "text": [
      "1234\n",
      "True\n"
     ]
    }
   ],
   "source": [
    "#### isdigit()\n",
    "s2=\"1234\"\n",
    "print(s2)\n",
    "print(s2.isdigit())"
   ]
  },
  {
   "cell_type": "code",
   "execution_count": 40,
   "id": "1b355cc4",
   "metadata": {},
   "outputs": [
    {
     "name": "stdout",
     "output_type": "stream",
     "text": [
      "python123\n",
      "True\n"
     ]
    }
   ],
   "source": [
    "### isalnum\n",
    "s3=\"python123\"\n",
    "print(s3)\n",
    "print(s3.isalnum())"
   ]
  },
  {
   "cell_type": "markdown",
   "id": "bdbe37cf",
   "metadata": {},
   "source": [
    "#### zfill()--> zero filling\n",
    "        - str.zfill(length)"
   ]
  },
  {
   "cell_type": "code",
   "execution_count": 50,
   "id": "125fbd17",
   "metadata": {},
   "outputs": [
    {
     "name": "stdout",
     "output_type": "stream",
     "text": [
      "django workshop\n",
      "15\n",
      "000000000000000django workshop\n"
     ]
    }
   ],
   "source": [
    "print(s)\n",
    "print(len(s))\n",
    "print(s.zfill(30))"
   ]
  },
  {
   "cell_type": "markdown",
   "id": "f87ddfc4",
   "metadata": {},
   "source": [
    "#### center()\n",
    "    - str.center(length,'char')"
   ]
  },
  {
   "cell_type": "code",
   "execution_count": 47,
   "id": "2f44ea5c",
   "metadata": {},
   "outputs": [
    {
     "name": "stdout",
     "output_type": "stream",
     "text": [
      "django workshop\n",
      "**django workshop***\n"
     ]
    }
   ],
   "source": [
    "print(s)\n",
    "print(s.center(20,'*'))"
   ]
  },
  {
   "cell_type": "markdown",
   "id": "f184e47f",
   "metadata": {},
   "source": [
    "#### format():\n",
    "        - str.format()"
   ]
  },
  {
   "cell_type": "code",
   "execution_count": 51,
   "id": "71aa476f",
   "metadata": {},
   "outputs": [
    {
     "name": "stdout",
     "output_type": "stream",
     "text": [
      "This is my new django workshop\n"
     ]
    }
   ],
   "source": [
    "a=\"workshop\"\n",
    "print(\"This is my new django {}\".format(a))\n"
   ]
  },
  {
   "cell_type": "code",
   "execution_count": 52,
   "id": "45173b3b",
   "metadata": {},
   "outputs": [
    {
     "name": "stdout",
     "output_type": "stream",
     "text": [
      "This is my new django workshop\n"
     ]
    }
   ],
   "source": [
    "print(\"This is my new django {}\".format(\"workshop\"))"
   ]
  },
  {
   "cell_type": "code",
   "execution_count": 53,
   "id": "e59c770c",
   "metadata": {},
   "outputs": [
    {
     "name": "stdout",
     "output_type": "stream",
     "text": [
      "This is my new django workshop\n"
     ]
    }
   ],
   "source": [
    "print(\"This is my new django {a}\".format(a=\"workshop\"))"
   ]
  },
  {
   "cell_type": "markdown",
   "id": "511fd440",
   "metadata": {},
   "source": [
    "### problem solving"
   ]
  },
  {
   "cell_type": "markdown",
   "id": "909092af",
   "metadata": {},
   "source": [
    "#### i/p:python@1234#\n",
    "#### o/p:\n",
    "        - alphabates count:\n",
    "        - digits count:\n",
    "        - special characters count:"
   ]
  },
  {
   "cell_type": "code",
   "execution_count": 56,
   "id": "13e79dc5",
   "metadata": {
    "collapsed": true
   },
   "outputs": [
    {
     "name": "stdout",
     "output_type": "stream",
     "text": [
      "Enter your string heresiri@659\n",
      "Alphabets count is: 4\n",
      "Digits count is: 3\n",
      "Special chars count is: 1\n"
     ]
    }
   ],
   "source": [
    "x=input(\"Enter your string here\")\n",
    "ac=dc=spc=0\n",
    "for i in x:\n",
    "    if i.isalpha():\n",
    "        ac=ac+1\n",
    "    elif i.isdigit():\n",
    "        dc=dc+1\n",
    "    else:\n",
    "        spc=spc+1\n",
    "print(\"Alphabets count is:\",ac)\n",
    "print(\"Digits count is:\",dc)\n",
    "print(\"Special chars count is:\",spc)\n",
    "        \n",
    "        \n",
    "        \n",
    "   "
   ]
  },
  {
   "cell_type": "markdown",
   "id": "3e7793ad",
   "metadata": {},
   "source": [
    "### character frequency\n",
    "#### i/p : have a nice day\n",
    "#### o/p : h--->1\n",
    "           a--->3\n",
    "           v---->1\n",
    "           e--->2\n",
    "            \n",
    "            \n",
    "            \n",
    "           y-->1"
   ]
  },
  {
   "cell_type": "code",
   "execution_count": 59,
   "id": "ff804b94",
   "metadata": {
    "collapsed": true
   },
   "outputs": [
    {
     "name": "stdout",
     "output_type": "stream",
     "text": [
      "Enter your string herehave a nice day\n",
      "h ---> 1\n",
      "a ---> 3\n",
      "v ---> 1\n",
      "e ---> 2\n",
      "  ---> 3\n",
      "a ---> 3\n",
      "  ---> 3\n",
      "n ---> 1\n",
      "i ---> 1\n",
      "c ---> 1\n",
      "e ---> 2\n",
      "  ---> 3\n",
      "d ---> 1\n",
      "a ---> 3\n",
      "y ---> 1\n"
     ]
    }
   ],
   "source": [
    "y=input(\"Enter your string here\")\n",
    "for i in y:\n",
    "    print(i,'--->',y.count(i))"
   ]
  },
  {
   "cell_type": "markdown",
   "id": "488a3325",
   "metadata": {},
   "source": [
    "#### i/p:Have A nice day\n",
    "#### o/p:vowels:a e i A"
   ]
  },
  {
   "cell_type": "code",
   "execution_count": 2,
   "id": "2950ea03",
   "metadata": {},
   "outputs": [
    {
     "name": "stdout",
     "output_type": "stream",
     "text": [
      "Enter your string herehave A nice DAy\n",
      "a e A i e A "
     ]
    }
   ],
   "source": [
    "z=input(\"Enter your string here\")\n",
    "for i in z:\n",
    "    if(i=='a' or i=='e' or i=='i' or i=='o' or i=='u' or i=='A' or i=='E' or i=='I' \n",
    "       or i=='O' or i=='U'):\n",
    "        print(i,end=\" \")\n",
    "        "
   ]
  },
  {
   "cell_type": "code",
   "execution_count": null,
   "id": "803141e0",
   "metadata": {},
   "outputs": [],
   "source": []
  }
 ],
 "metadata": {
  "kernelspec": {
   "display_name": "Python 3 (ipykernel)",
   "language": "python",
   "name": "python3"
  },
  "language_info": {
   "codemirror_mode": {
    "name": "ipython",
    "version": 3
   },
   "file_extension": ".py",
   "mimetype": "text/x-python",
   "name": "python",
   "nbconvert_exporter": "python",
   "pygments_lexer": "ipython3",
   "version": "3.9.13"
  }
 },
 "nbformat": 4,
 "nbformat_minor": 5
}
